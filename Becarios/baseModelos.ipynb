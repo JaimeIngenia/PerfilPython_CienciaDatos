{
 "cells": [
  {
   "cell_type": "markdown",
   "metadata": {},
   "source": [
    "# Importando librerías"
   ]
  },
  {
   "cell_type": "code",
   "execution_count": 1,
   "metadata": {},
   "outputs": [],
   "source": [
    "import pandas as pd\n",
    "import numpy as np\n",
    "# Valores faltantes\n",
    "import missingno as msno\n",
    "# Atípicos\n",
    "import matplotlib.pyplot as plt\n",
    "import seaborn as sns\n",
    "\n",
    "from rich.console import Console\n",
    "from rich.table import Table\n",
    "from rich.panel import Panel\n",
    "from rich.prompt import Prompt\n",
    "\n",
    "from sklearn.feature_selection import SelectKBest, f_classif\n",
    "\n",
    "from sklearn.model_selection import train_test_split\n",
    "from sklearn.tree import DecisionTreeClassifier\n",
    "from sklearn.ensemble import RandomForestClassifier\n",
    "from sklearn.linear_model import LogisticRegression\n",
    "from sklearn.metrics import classification_report, accuracy_score\n",
    "\n",
    "import category_encoders as ce"
   ]
  },
  {
   "cell_type": "markdown",
   "metadata": {},
   "source": [
    "# Importando la base de datos"
   ]
  },
  {
   "cell_type": "code",
   "execution_count": 3,
   "metadata": {},
   "outputs": [],
   "source": [
    "df = pd.read_csv('./tarea1/db/hotel_bookings_limpio.csv', encoding='ISO-8859-1')"
   ]
  },
  {
   "cell_type": "markdown",
   "metadata": {},
   "source": [
    "# Diseño del modelo"
   ]
  },
  {
   "cell_type": "markdown",
   "metadata": {},
   "source": [
    "###### Crear las variables X (predictoras) e y (objetivo)"
   ]
  },
  {
   "cell_type": "code",
   "execution_count": 4,
   "metadata": {},
   "outputs": [],
   "source": [
    "# Crear las variables X(predictoras) e y(objetivo)\n",
    "\n",
    "new_features = ['is_canceled', 'lead_time', 'required_car_parking_spaces','total_of_special_requests']\n",
    "X = df[new_features].drop(columns=['is_canceled'])  # Variables predictoras\n",
    "y = df['is_canceled']  # Variable objetivo"
   ]
  },
  {
   "cell_type": "markdown",
   "metadata": {},
   "source": [
    "###### Dividir los datos en conjuntos de entrenamiento y prueba"
   ]
  },
  {
   "cell_type": "code",
   "execution_count": 5,
   "metadata": {},
   "outputs": [],
   "source": [
    "X_train, X_test, y_train, y_test = train_test_split(X,y, test_size=0.30,random_state=42)"
   ]
  },
  {
   "cell_type": "markdown",
   "metadata": {},
   "source": [
    "### 1) Importar el modelo"
   ]
  },
  {
   "cell_type": "markdown",
   "metadata": {},
   "source": [
    "###### Con arbol de decisión"
   ]
  },
  {
   "cell_type": "code",
   "execution_count": 6,
   "metadata": {},
   "outputs": [],
   "source": [
    "# Definir variables y crear las transformaciones correspondientes \n",
    "\n",
    "encoder  = ce.OrdinalEncoder(cols = [ 'lead_time', 'required_car_parking_spaces','total_of_special_requests'])\n",
    "\n",
    "X_train = encoder.fit_transform(X_train)\n",
    "\n",
    "X_test = encoder.fit_transform(X_test)"
   ]
  },
  {
   "cell_type": "code",
   "execution_count": 7,
   "metadata": {},
   "outputs": [],
   "source": [
    "# Importar arbol de desicion y crear el modelo\n",
    "\n",
    "tree = DecisionTreeClassifier(max_depth=2,random_state=42)"
   ]
  },
  {
   "cell_type": "markdown",
   "metadata": {},
   "source": [
    "###### Con Random Forest"
   ]
  },
  {
   "cell_type": "code",
   "execution_count": 8,
   "metadata": {},
   "outputs": [],
   "source": [
    "# Importar random forest y crear el modelo\n",
    "\n",
    "random_forest = RandomForestClassifier(n_estimators=10,random_state=42)"
   ]
  },
  {
   "cell_type": "markdown",
   "metadata": {},
   "source": [
    "###### Con Regresión Logística"
   ]
  },
  {
   "cell_type": "code",
   "execution_count": 17,
   "metadata": {},
   "outputs": [],
   "source": [
    "# Importar regresion logística y crear el modelo\n",
    "\n",
    "regression_logistic = LogisticRegression(max_iter=1000)"
   ]
  },
  {
   "cell_type": "markdown",
   "metadata": {},
   "source": [
    "### 2) Entrenar el modelo"
   ]
  },
  {
   "cell_type": "markdown",
   "metadata": {},
   "source": [
    "###### Con arbol de decisión"
   ]
  },
  {
   "cell_type": "code",
   "execution_count": 9,
   "metadata": {},
   "outputs": [
    {
     "data": {
      "text/plain": [
       "DecisionTreeClassifier(max_depth=2, random_state=42)"
      ]
     },
     "execution_count": 9,
     "metadata": {},
     "output_type": "execute_result"
    }
   ],
   "source": [
    "# Entrenar el modelo\n",
    "\n",
    "tree.fit(X_train,y_train)"
   ]
  },
  {
   "cell_type": "markdown",
   "metadata": {},
   "source": [
    "###### Con Random Forest"
   ]
  },
  {
   "cell_type": "code",
   "execution_count": 10,
   "metadata": {},
   "outputs": [
    {
     "data": {
      "text/plain": [
       "RandomForestClassifier(n_estimators=10, random_state=42)"
      ]
     },
     "execution_count": 10,
     "metadata": {},
     "output_type": "execute_result"
    }
   ],
   "source": [
    "# Entrenar el modelo\n",
    "\n",
    "random_forest.fit(X_train,y_train)"
   ]
  },
  {
   "cell_type": "markdown",
   "metadata": {},
   "source": [
    "###### Con Regresión Logística"
   ]
  },
  {
   "cell_type": "code",
   "execution_count": 18,
   "metadata": {},
   "outputs": [
    {
     "data": {
      "text/plain": [
       "LogisticRegression(max_iter=1000)"
      ]
     },
     "execution_count": 18,
     "metadata": {},
     "output_type": "execute_result"
    }
   ],
   "source": [
    "# Entrenar el modelo\n",
    "\n",
    "regression_logistic.fit(X_train, y_train)"
   ]
  },
  {
   "cell_type": "markdown",
   "metadata": {},
   "source": [
    "### 3) Evaluación del modelo cálculo del performance"
   ]
  },
  {
   "cell_type": "markdown",
   "metadata": {},
   "source": [
    "#### Cálculos de las predicciones para posteriormente calcular la performance"
   ]
  },
  {
   "cell_type": "markdown",
   "metadata": {},
   "source": [
    "###### Con arbol de decisión"
   ]
  },
  {
   "cell_type": "code",
   "execution_count": 11,
   "metadata": {},
   "outputs": [],
   "source": [
    "# Predicciones para el conjunto de entrenamiento\n",
    "y_train_pred_tree = tree.predict(X_train)\n",
    "\n",
    "# Predicciones para el conjunto de prueba\n",
    "y_test_pred_tree = tree.predict(X_test)"
   ]
  },
  {
   "cell_type": "markdown",
   "metadata": {},
   "source": [
    "###### Con Random Forest"
   ]
  },
  {
   "cell_type": "code",
   "execution_count": 12,
   "metadata": {},
   "outputs": [],
   "source": [
    "# Predicciones para el conjunto de entrenamiento\n",
    "y_train_pred_random_forest = random_forest.predict(X_train)\n",
    "\n",
    "# Predicciones para el conjunto de prueba\n",
    "y_test_pred_random_forest = random_forest.predict(X_test)"
   ]
  },
  {
   "cell_type": "markdown",
   "metadata": {},
   "source": [
    "###### Con Regresión Logística"
   ]
  },
  {
   "cell_type": "code",
   "execution_count": 19,
   "metadata": {},
   "outputs": [],
   "source": [
    "# Predicciones para el conjunto de entrenamiento\n",
    "y_train_pred_regression_logistic = regression_logistic.predict(X_train)\n",
    "\n",
    "# Predicciones para el conjunto de prueba\n",
    "y_test_pred_regression_logistic = regression_logistic.predict(X_test)"
   ]
  },
  {
   "cell_type": "markdown",
   "metadata": {},
   "source": [
    "#### Cálculo del performance"
   ]
  },
  {
   "cell_type": "markdown",
   "metadata": {},
   "source": [
    "###### Con arbol de decisión"
   ]
  },
  {
   "cell_type": "code",
   "execution_count": 13,
   "metadata": {},
   "outputs": [
    {
     "name": "stdout",
     "output_type": "stream",
     "text": [
      "El accuracy en train es:  0.7243533143660682\n",
      "El accuracy en test es:  0.7267559421616878\n"
     ]
    }
   ],
   "source": [
    "# Cálculo de accuracy del train\n",
    "\n",
    "train_accuracy_tree = accuracy_score( y_train , y_train_pred_tree)\n",
    "\n",
    "# Cálculo de accuracy del test\n",
    "\n",
    "test_accuracy_tree = accuracy_score( y_test , y_test_pred_tree)\n",
    "\n",
    "print('El accuracy de tree en train es: ',train_accuracy_tree)\n",
    "print('El accuracy de tree en test es: ',test_accuracy_tree)"
   ]
  },
  {
   "cell_type": "markdown",
   "metadata": {},
   "source": [
    "###### Con Random Forest"
   ]
  },
  {
   "cell_type": "code",
   "execution_count": 14,
   "metadata": {},
   "outputs": [
    {
     "name": "stdout",
     "output_type": "stream",
     "text": [
      "El accuracy en train es:  0.7402138722652801\n",
      "El accuracy en test es:  0.6857426271412765\n"
     ]
    }
   ],
   "source": [
    "# Cálculo de accuracy del train\n",
    "\n",
    "train_accuracy_random_forest = accuracy_score( y_train , y_train_pred_random_forest)\n",
    "\n",
    "# Cálculo de accuracy del test\n",
    "\n",
    "test_accuracy_random_forest = accuracy_score( y_test , y_test_pred_random_forest)\n",
    "\n",
    "print('El accuracy de Rrandom Forest en train es: ',train_accuracy_random_forest)\n",
    "print('El accuracy de Rrandom Forest en test es: ',test_accuracy_random_forest)"
   ]
  },
  {
   "cell_type": "markdown",
   "metadata": {},
   "source": [
    "###### Con Regresión Logística"
   ]
  },
  {
   "cell_type": "code",
   "execution_count": 22,
   "metadata": {},
   "outputs": [
    {
     "name": "stdout",
     "output_type": "stream",
     "text": [
      "El accuracy de regression_logistic en train es:  0.7248601981752183\n",
      "El accuracy de regression_logistic en test es:  0.7269085498454847\n"
     ]
    }
   ],
   "source": [
    "# Cálculo de accuracy del train\n",
    "\n",
    "train_accuracy_regression_logistic = accuracy_score( y_train , y_train_pred_regression_logistic)\n",
    "\n",
    "# Cálculo de accuracy del test\n",
    "\n",
    "test_accuracy_regression_logistic = accuracy_score( y_test , y_test_pred_regression_logistic)\n",
    "\n",
    "print('El accuracy de regression_logistic en train es: ',train_accuracy_regression_logistic)\n",
    "print('El accuracy de regression_logistic en test es: ',test_accuracy_regression_logistic)"
   ]
  },
  {
   "cell_type": "markdown",
   "metadata": {},
   "source": [
    "#### Verificamos le feature importance"
   ]
  },
  {
   "cell_type": "markdown",
   "metadata": {},
   "source": [
    "###### Con arbol de decisión"
   ]
  },
  {
   "cell_type": "code",
   "execution_count": 15,
   "metadata": {},
   "outputs": [
    {
     "data": {
      "image/png": "[encoded data removed]",
      "text/plain": [
       "<Figure size 640x480 with 1 Axes>"
      ]
     },
     "metadata": {},
     "output_type": "display_data"
    }
   ],
   "source": [
    "importances = tree.feature_importances_\n",
    "columns = list(X.columns)\n",
    "\n",
    "sns.barplot(x=importances, y=columns, palette='bright', saturation=2.0, edgecolor='black', linewidth=2)\n",
    "plt.title('Importancia de cada Feature', fontsize=14)\n",
    "plt.xlabel('Importancia', fontsize=12)\n",
    "plt.ylabel('Feature', fontsize=12)\n",
    "plt.tight_layout()\n",
    "plt.show()"
   ]
  },
  {
   "cell_type": "markdown",
   "metadata": {},
   "source": [
    "###### Con Random Forest"
   ]
  },
  {
   "cell_type": "code",
   "execution_count": 16,
   "metadata": {},
   "outputs": [
    {
     "data": {
      "image/png": "[encoded data removed]",
      "text/plain": [
       "<Figure size 640x480 with 1 Axes>"
      ]
     },
     "metadata": {},
     "output_type": "display_data"
    }
   ],
   "source": [
    "importances = random_forest.feature_importances_\n",
    "columns = list(X.columns)\n",
    "\n",
    "sns.barplot(x=importances, y=columns, palette='bright', saturation=2.0, edgecolor='black', linewidth=2)\n",
    "plt.title('Importancia de cada Feature', fontsize=14)\n",
    "plt.xlabel('Importancia', fontsize=12)\n",
    "plt.ylabel('Feature', fontsize=12)\n",
    "plt.tight_layout()\n",
    "plt.show()"
   ]
  },
  {
   "cell_type": "markdown",
   "metadata": {},
   "source": [
    "###### Con Regresión Logística"
   ]
  },
  {
   "cell_type": "code",
   "execution_count": 23,
   "metadata": {},
   "outputs": [
    {
     "data": {
      "image/png": "[encoded data removed]",
      "text/plain": [
       "<Figure size 640x480 with 1 Axes>"
      ]
     },
     "metadata": {},
     "output_type": "display_data"
    }
   ],
   "source": [
    "importances = regression_logistic.coef_[0]  # Extrae los coeficientes de la regresión logística\n",
    "columns = list(X.columns)  # Obtén los nombres de las columnas\n",
    "\n",
    "\n",
    "sns.barplot(x=importances, y=columns, palette='bright', saturation=2.0, edgecolor='black', linewidth=2)\n",
    "plt.title('Importancia de cada Feature', fontsize=14)\n",
    "plt.xlabel('Importancia', fontsize=12)\n",
    "plt.ylabel('Feature', fontsize=12)\n",
    "plt.tight_layout()\n",
    "plt.show()"
   ]
  }
 ],
 "metadata": {
  "kernelspec": {
   "display_name": "mi_entorno",
   "language": "python",
   "name": "python3"
  },
  "language_info": {
   "codemirror_mode": {
    "name": "ipython",
    "version": 3
   },
   "file_extension": ".py",
   "mimetype": "text/x-python",
   "name": "python",
   "nbconvert_exporter": "python",
   "pygments_lexer": "ipython3",
   "version": "3.7.7"
  }
 },
 "nbformat": 4,
 "nbformat_minor": 2
}
