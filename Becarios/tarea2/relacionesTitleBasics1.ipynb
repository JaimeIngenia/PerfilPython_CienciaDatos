{
 "cells": [
  {
   "cell_type": "markdown",
   "metadata": {},
   "source": [
    "# Importando librerías"
   ]
  },
  {
   "cell_type": "code",
   "execution_count": 1,
   "metadata": {},
   "outputs": [],
   "source": [
    "import pandas as pd\n",
    "import numpy as np\n",
    "# Valores faltantes\n",
    "import missingno as msno\n",
    "# Atípicos\n",
    "import matplotlib.pyplot as plt\n",
    "import seaborn as sns\n"
   ]
  },
  {
   "cell_type": "markdown",
   "metadata": {},
   "source": [
    "# Importando las bases de datos"
   ]
  },
  {
   "cell_type": "code",
   "execution_count": 27,
   "metadata": {},
   "outputs": [
    {
     "name": "stderr",
     "output_type": "stream",
     "text": [
      "c:\\Users\\ASUS\\OneDrive\\Documentos\\1aaaaEsposo_Jaime\\U_Trabajo\\perfilPython\\mi_entorno\\lib\\site-packages\\IPython\\core\\interactiveshell.py:3553: DtypeWarning: Columns (4) have mixed types.Specify dtype option on import or set low_memory=False.\n",
      "  exec(code_obj, self.user_global_ns, self.user_ns)\n"
     ]
    }
   ],
   "source": [
    "#df_title_basics_1 = pd.read_csv('./db/title.basics.tsv', sep='\\t', on_bad_lines='skip', dtype={'columna_4': 'str'})\n",
    "#df_title_basics_1 = pd.read_csv('./db/title.basics.tsv', sep='\\t', on_bad_lines='skip',encoding='ISO-8859-1')\n",
    "\n",
    "df_title_basics_1 = pd.read_csv(\n",
    "    './db/title.basics.tsv',\n",
    "    sep='\\t',\n",
    "    on_bad_lines='skip',\n",
    "    dtype={\n",
    "        'tconst': 'object',\n",
    "        'titleType': 'object',\n",
    "        'primaryTitle': 'object',\n",
    "        'originalTitle': 'object',\n",
    "        'startYear': 'str',\n",
    "        'endYear': 'str',\n",
    "        'runtimeMinutes': 'str',\n",
    "        'genres': 'object'\n",
    "    }\n",
    ")"
   ]
  },
  {
   "cell_type": "code",
   "execution_count": null,
   "metadata": {},
   "outputs": [],
   "source": [
    "# Usar el encoding adecuado (por ejemplo, 'ISO-8859-1' o 'latin1')\n",
    "with open('./db/title.basics.tsv', 'r', encoding='ISO-8859-1') as file:\n",
    "    lines = file.readlines()\n",
    "    print(lines[:1])"
   ]
  },
  {
   "cell_type": "code",
   "execution_count": null,
   "metadata": {},
   "outputs": [],
   "source": [
    "# Usar el encoding adecuado (por ejemplo, 'ISO-8859-1' o 'latin1')\n",
    "with open('./db/title.basics.tsv', 'r', encoding='ISO-8859-1') as file:\n",
    "    lines = file.readlines()\n",
    "    print(lines[-1:])"
   ]
  },
  {
   "cell_type": "markdown",
   "metadata": {},
   "source": [
    "# Exploración de datos"
   ]
  },
  {
   "cell_type": "code",
   "execution_count": 28,
   "metadata": {},
   "outputs": [
    {
     "data": {
      "text/plain": [
       "(11278847, 9)"
      ]
     },
     "execution_count": 28,
     "metadata": {},
     "output_type": "execute_result"
    }
   ],
   "source": [
    "df_title_basics_1.shape\n",
    "#(11278847, 9)\n",
    "# Luego de eliminar 6 datos con 13 valores faltantes\n",
    "#(11278834, 7)\n"
   ]
  },
  {
   "cell_type": "code",
   "execution_count": 29,
   "metadata": {},
   "outputs": [
    {
     "data": {
      "text/html": [
       "<div>\n",
       "<style scoped>\n",
       "    .dataframe tbody tr th:only-of-type {\n",
       "        vertical-align: middle;\n",
       "    }\n",
       "\n",
       "    .dataframe tbody tr th {\n",
       "        vertical-align: top;\n",
       "    }\n",
       "\n",
       "    .dataframe thead th {\n",
       "        text-align: right;\n",
       "    }\n",
       "</style>\n",
       "<table border=\"1\" class=\"dataframe\">\n",
       "  <thead>\n",
       "    <tr style=\"text-align: right;\">\n",
       "      <th></th>\n",
       "      <th>tconst</th>\n",
       "      <th>titleType</th>\n",
       "      <th>primaryTitle</th>\n",
       "      <th>originalTitle</th>\n",
       "      <th>isAdult</th>\n",
       "      <th>startYear</th>\n",
       "      <th>endYear</th>\n",
       "      <th>runtimeMinutes</th>\n",
       "      <th>genres</th>\n",
       "    </tr>\n",
       "  </thead>\n",
       "  <tbody>\n",
       "    <tr>\n",
       "      <th>11278844</th>\n",
       "      <td>tt9916852</td>\n",
       "      <td>tvEpisode</td>\n",
       "      <td>Episode #3.20</td>\n",
       "      <td>Episode #3.20</td>\n",
       "      <td>0</td>\n",
       "      <td>2010</td>\n",
       "      <td>\\N</td>\n",
       "      <td>\\N</td>\n",
       "      <td>Action,Drama,Family</td>\n",
       "    </tr>\n",
       "    <tr>\n",
       "      <th>11278845</th>\n",
       "      <td>tt9916856</td>\n",
       "      <td>short</td>\n",
       "      <td>The Wind</td>\n",
       "      <td>The Wind</td>\n",
       "      <td>0</td>\n",
       "      <td>2015</td>\n",
       "      <td>\\N</td>\n",
       "      <td>27</td>\n",
       "      <td>Short</td>\n",
       "    </tr>\n",
       "    <tr>\n",
       "      <th>11278846</th>\n",
       "      <td>tt9916880</td>\n",
       "      <td>tvEpisode</td>\n",
       "      <td>Horrid Henry Knows It All</td>\n",
       "      <td>Horrid Henry Knows It All</td>\n",
       "      <td>0</td>\n",
       "      <td>2014</td>\n",
       "      <td>\\N</td>\n",
       "      <td>10</td>\n",
       "      <td>Adventure,Animation,Comedy</td>\n",
       "    </tr>\n",
       "  </tbody>\n",
       "</table>\n",
       "</div>"
      ],
      "text/plain": [
       "             tconst  titleType               primaryTitle  \\\n",
       "11278844  tt9916852  tvEpisode              Episode #3.20   \n",
       "11278845  tt9916856      short                   The Wind   \n",
       "11278846  tt9916880  tvEpisode  Horrid Henry Knows It All   \n",
       "\n",
       "                      originalTitle isAdult startYear endYear runtimeMinutes  \\\n",
       "11278844              Episode #3.20       0      2010      \\N             \\N   \n",
       "11278845                   The Wind       0      2015      \\N             27   \n",
       "11278846  Horrid Henry Knows It All       0      2014      \\N             10   \n",
       "\n",
       "                              genres  \n",
       "11278844         Action,Drama,Family  \n",
       "11278845                       Short  \n",
       "11278846  Adventure,Animation,Comedy  "
      ]
     },
     "execution_count": 29,
     "metadata": {},
     "output_type": "execute_result"
    }
   ],
   "source": [
    "df_title_basics_1.tail(3)"
   ]
  },
  {
   "cell_type": "markdown",
   "metadata": {},
   "source": [
    "##### Reemplazar para que numpy entienda valores faltantes"
   ]
  },
  {
   "cell_type": "code",
   "execution_count": 30,
   "metadata": {},
   "outputs": [],
   "source": [
    "df_title_basics_1.replace({'\\\\N': np.nan}, inplace=True)"
   ]
  },
  {
   "cell_type": "code",
   "execution_count": 24,
   "metadata": {},
   "outputs": [
    {
     "name": "stdout",
     "output_type": "stream",
     "text": [
      "<class 'pandas.core.frame.DataFrame'>\n",
      "RangeIndex: 11278847 entries, 0 to 11278846\n",
      "Data columns (total 9 columns):\n",
      " #   Column          Dtype \n",
      "---  ------          ----- \n",
      " 0   tconst          object\n",
      " 1   titleType       object\n",
      " 2   primaryTitle    object\n",
      " 3   originalTitle   object\n",
      " 4   isAdult         object\n",
      " 5   startYear       object\n",
      " 6   endYear         object\n",
      " 7   runtimeMinutes  object\n",
      " 8   genres          object\n",
      "dtypes: object(9)\n",
      "memory usage: 774.5+ MB\n"
     ]
    }
   ],
   "source": [
    "df_title_basics_1.info()"
   ]
  },
  {
   "cell_type": "markdown",
   "metadata": {},
   "source": [
    "# Valores nulos"
   ]
  },
  {
   "cell_type": "code",
   "execution_count": 7,
   "metadata": {},
   "outputs": [
    {
     "data": {
      "text/plain": [
       "<AxesSubplot:>"
      ]
     },
     "execution_count": 7,
     "metadata": {},
     "output_type": "execute_result"
    },
    {
     "data": {
      "image/png": "[encoded data removed]",
      "text/plain": [
       "<Figure size 2500x1000 with 2 Axes>"
      ]
     },
     "metadata": {},
     "output_type": "display_data"
    }
   ],
   "source": [
    "# Matriz de valores faltantes\n",
    "\n",
    "msno.matrix(df_title_basics_1)"
   ]
  },
  {
   "cell_type": "code",
   "execution_count": 8,
   "metadata": {},
   "outputs": [
    {
     "data": {
      "text/plain": [
       "tconst                   0\n",
       "titleType                0\n",
       "primaryTitle            12\n",
       "originalTitle           12\n",
       "isAdult                  1\n",
       "startYear          1417203\n",
       "endYear           11146045\n",
       "runtimeMinutes     7715219\n",
       "genres              500750\n",
       "dtype: int64"
      ]
     },
     "execution_count": 8,
     "metadata": {},
     "output_type": "execute_result"
    }
   ],
   "source": [
    "df_nulos_title_basics_1 = df_title_basics_1.isnull().sum()\n",
    "\n",
    "df_nulos_title_basics_1"
   ]
  },
  {
   "cell_type": "markdown",
   "metadata": {},
   "source": [
    "###### Imputaciones"
   ]
  },
  {
   "cell_type": "code",
   "execution_count": 31,
   "metadata": {},
   "outputs": [],
   "source": [
    "# Rellenar valores nulos con \"Desconocido\"\n",
    "df_title_basics_1['genres'].fillna('Desconocido', inplace=True)"
   ]
  },
  {
   "cell_type": "code",
   "execution_count": 32,
   "metadata": {},
   "outputs": [],
   "source": [
    "# Calcular el valor más frecuente en startYear\n",
    "modo_startYear = df_title_basics_1['startYear'].mode()[0]\n",
    "\n",
    "# Imputar valores faltantes en startYear con el valor más frecuente\n",
    "df_title_basics_1['startYear'].fillna(modo_startYear, inplace=True)"
   ]
  },
  {
   "cell_type": "code",
   "execution_count": 33,
   "metadata": {},
   "outputs": [],
   "source": [
    "# Convertir runtimeMinutes a numérico (coercion para NaN)\n",
    "df_title_basics_1['runtimeMinutes'] = pd.to_numeric(df_title_basics_1['runtimeMinutes'], errors='coerce')\n"
   ]
  },
  {
   "cell_type": "code",
   "execution_count": 34,
   "metadata": {},
   "outputs": [],
   "source": [
    "# Convertir startYear a numérico\n",
    "df_title_basics_1['startYear'] = pd.to_numeric(df_title_basics_1['startYear'], errors='coerce')"
   ]
  },
  {
   "cell_type": "code",
   "execution_count": 35,
   "metadata": {},
   "outputs": [],
   "source": [
    "\n",
    "\n",
    "# Reemplazar los valores nulos en 'runtimeMinutes' con el valor 0\n",
    "df_title_basics_1['runtimeMinutes'] = df_title_basics_1['runtimeMinutes'].fillna(0)"
   ]
  },
  {
   "cell_type": "markdown",
   "metadata": {},
   "source": [
    "###### Eliminar"
   ]
  },
  {
   "cell_type": "code",
   "execution_count": 36,
   "metadata": {},
   "outputs": [],
   "source": [
    "df_title_basics_1.drop(columns=['endYear'], inplace=True)"
   ]
  },
  {
   "cell_type": "code",
   "execution_count": 37,
   "metadata": {},
   "outputs": [],
   "source": [
    "# Eliminar filas con valores faltantes en primaryTitle y originalTitle\n",
    "df_title_basics_1 = df_title_basics_1.dropna(subset=['primaryTitle', 'originalTitle','isAdult'])\n"
   ]
  },
  {
   "cell_type": "code",
   "execution_count": 38,
   "metadata": {},
   "outputs": [
    {
     "data": {
      "text/html": [
       "<div>\n",
       "<style scoped>\n",
       "    .dataframe tbody tr th:only-of-type {\n",
       "        vertical-align: middle;\n",
       "    }\n",
       "\n",
       "    .dataframe tbody tr th {\n",
       "        vertical-align: top;\n",
       "    }\n",
       "\n",
       "    .dataframe thead th {\n",
       "        text-align: right;\n",
       "    }\n",
       "</style>\n",
       "<table border=\"1\" class=\"dataframe\">\n",
       "  <thead>\n",
       "    <tr style=\"text-align: right;\">\n",
       "      <th></th>\n",
       "      <th>startYear</th>\n",
       "      <th>runtimeMinutes</th>\n",
       "    </tr>\n",
       "  </thead>\n",
       "  <tbody>\n",
       "    <tr>\n",
       "      <th>count</th>\n",
       "      <td>1.127883e+07</td>\n",
       "      <td>1.127883e+07</td>\n",
       "    </tr>\n",
       "    <tr>\n",
       "      <th>mean</th>\n",
       "      <td>2.007865e+03</td>\n",
       "      <td>1.368316e+01</td>\n",
       "    </tr>\n",
       "    <tr>\n",
       "      <th>std</th>\n",
       "      <td>1.950878e+01</td>\n",
       "      <td>4.615740e+01</td>\n",
       "    </tr>\n",
       "    <tr>\n",
       "      <th>min</th>\n",
       "      <td>1.874000e+03</td>\n",
       "      <td>0.000000e+00</td>\n",
       "    </tr>\n",
       "    <tr>\n",
       "      <th>25%</th>\n",
       "      <td>2.004000e+03</td>\n",
       "      <td>0.000000e+00</td>\n",
       "    </tr>\n",
       "    <tr>\n",
       "      <th>50%</th>\n",
       "      <td>2.015000e+03</td>\n",
       "      <td>0.000000e+00</td>\n",
       "    </tr>\n",
       "    <tr>\n",
       "      <th>75%</th>\n",
       "      <td>2.021000e+03</td>\n",
       "      <td>1.500000e+01</td>\n",
       "    </tr>\n",
       "    <tr>\n",
       "      <th>max</th>\n",
       "      <td>2.031000e+03</td>\n",
       "      <td>5.946000e+04</td>\n",
       "    </tr>\n",
       "  </tbody>\n",
       "</table>\n",
       "</div>"
      ],
      "text/plain": [
       "          startYear  runtimeMinutes\n",
       "count  1.127883e+07    1.127883e+07\n",
       "mean   2.007865e+03    1.368316e+01\n",
       "std    1.950878e+01    4.615740e+01\n",
       "min    1.874000e+03    0.000000e+00\n",
       "25%    2.004000e+03    0.000000e+00\n",
       "50%    2.015000e+03    0.000000e+00\n",
       "75%    2.021000e+03    1.500000e+01\n",
       "max    2.031000e+03    5.946000e+04"
      ]
     },
     "execution_count": 38,
     "metadata": {},
     "output_type": "execute_result"
    }
   ],
   "source": [
    "df_title_basics_1.describe()"
   ]
  },
  {
   "cell_type": "markdown",
   "metadata": {},
   "source": [
    "# Before clean"
   ]
  },
  {
   "cell_type": "code",
   "execution_count": 9,
   "metadata": {},
   "outputs": [
    {
     "data": {
      "text/plain": [
       "<AxesSubplot:>"
      ]
     },
     "execution_count": 9,
     "metadata": {},
     "output_type": "execute_result"
    },
    {
     "data": {
      "image/png": "[encoded data removed]",
      "text/plain": [
       "<Figure size 2500x1000 with 2 Axes>"
      ]
     },
     "metadata": {},
     "output_type": "display_data"
    }
   ],
   "source": [
    "msno.matrix(df_title_basics_1)"
   ]
  },
  {
   "cell_type": "code",
   "execution_count": 39,
   "metadata": {},
   "outputs": [
    {
     "name": "stdout",
     "output_type": "stream",
     "text": [
      "<class 'pandas.core.frame.DataFrame'>\n",
      "Int64Index: 11278834 entries, 0 to 11278846\n",
      "Data columns (total 8 columns):\n",
      " #   Column          Dtype  \n",
      "---  ------          -----  \n",
      " 0   tconst          object \n",
      " 1   titleType       object \n",
      " 2   primaryTitle    object \n",
      " 3   originalTitle   object \n",
      " 4   isAdult         object \n",
      " 5   startYear       int64  \n",
      " 6   runtimeMinutes  float64\n",
      " 7   genres          object \n",
      "dtypes: float64(1), int64(1), object(6)\n",
      "memory usage: 774.5+ MB\n"
     ]
    }
   ],
   "source": [
    "df_title_basics_1.info()"
   ]
  },
  {
   "cell_type": "markdown",
   "metadata": {},
   "source": [
    "# Crear tabla generos"
   ]
  },
  {
   "cell_type": "code",
   "execution_count": 9,
   "metadata": {},
   "outputs": [
    {
     "name": "stdout",
     "output_type": "stream",
     "text": [
      "    genre_id        genre\n",
      "0          1        Drama\n",
      "1          2       Comedy\n",
      "2          3    Talk-Show\n",
      "3          4        Short\n",
      "4          5  Documentary\n",
      "5          6         News\n",
      "6          7      Romance\n",
      "7          8       Family\n",
      "8          9   Reality-TV\n",
      "9         10    Animation\n",
      "10        11  Desconocido\n",
      "11        12        Crime\n",
      "12        13       Action\n",
      "13        14    Adventure\n",
      "14        15    Game-Show\n",
      "15        16        Music\n",
      "16        17        Adult\n",
      "17        18        Sport\n",
      "18        19      Fantasy\n",
      "19        20      Mystery\n",
      "20        21       Horror\n",
      "21        22     Thriller\n",
      "22        23      History\n",
      "23        24    Biography\n",
      "24        25       Sci-Fi\n",
      "25        26      Musical\n",
      "26        27          War\n",
      "27        28      Western\n",
      "28        29    Film-Noir\n",
      "29        30  Desconocido\n"
     ]
    }
   ],
   "source": [
    "import pandas as pd\n",
    "\n",
    "# Suponiendo que ya has cargado tu DataFrame df_title_basics_1\n",
    "\n",
    "# Crear un DataFrame para los géneros únicos\n",
    "genres_unique = pd.DataFrame({\n",
    "    'genre_id': range(1, 31),\n",
    "    'genre': ['Drama', 'Comedy', 'Talk-Show', 'Short', 'Documentary', 'News', 'Romance', 'Family', 'Reality-TV',\n",
    "              'Animation', 'Desconocido', 'Crime', 'Action', 'Adventure', 'Game-Show', 'Music', 'Adult', 'Sport',\n",
    "              'Fantasy', 'Mystery', 'Horror', 'Thriller', 'History', 'Biography', 'Sci-Fi', 'Musical', 'War',\n",
    "              'Western', 'Film-Noir','Desconocido']\n",
    "})\n",
    "\n",
    "print(genres_unique)\n",
    "\n",
    "\n"
   ]
  },
  {
   "cell_type": "markdown",
   "metadata": {},
   "source": [
    "##### Normalizar los Datos de df_title_basics_1"
   ]
  },
  {
   "cell_type": "code",
   "execution_count": 10,
   "metadata": {},
   "outputs": [],
   "source": [
    "# Descomponer la columna genres\n",
    "df_expanded_title_basics_1 = df_title_basics_1.assign(genres=df_title_basics_1['genres'].str.split(',')).explode('genres')\n",
    "\n",
    "# Unir con la tabla de géneros únicos para obtener los IDs de géneros\n",
    "df_expanded_title_basics_1 = pd.merge(df_expanded_title_basics_1, genres_unique, left_on='genres', right_on='genre', how='left')\n",
    "\n",
    "# Eliminar la columna genres original y renombrar la columna genre_id\n",
    "df_expanded_title_basics_1 = df_expanded_title_basics_1.drop(columns=['genres', 'genre']).rename(columns={'genre_id': 'genre_id'})\n",
    "\n",
    "\n"
   ]
  },
  {
   "cell_type": "markdown",
   "metadata": {},
   "source": [
    "# Before cleand and normalized"
   ]
  },
  {
   "cell_type": "code",
   "execution_count": 14,
   "metadata": {},
   "outputs": [
    {
     "data": {
      "text/plain": [
       "<AxesSubplot:>"
      ]
     },
     "execution_count": 14,
     "metadata": {},
     "output_type": "execute_result"
    },
    {
     "data": {
      "image/png": "[encoded data removed]",
      "text/plain": [
       "<Figure size 2500x1000 with 2 Axes>"
      ]
     },
     "metadata": {},
     "output_type": "display_data"
    }
   ],
   "source": [
    "msno.matrix(df_expanded_title_basics_1)"
   ]
  },
  {
   "cell_type": "code",
   "execution_count": 13,
   "metadata": {},
   "outputs": [
    {
     "name": "stdout",
     "output_type": "stream",
     "text": [
      "<class 'pandas.core.frame.DataFrame'>\n",
      "Int64Index: 18449704 entries, 0 to 18449703\n",
      "Data columns (total 7 columns):\n",
      " #   Column         Dtype \n",
      "---  ------         ----- \n",
      " 0   tconst         object\n",
      " 1   titleType      object\n",
      " 2   primaryTitle   object\n",
      " 3   originalTitle  object\n",
      " 4   isAdult        object\n",
      " 5   startYear      object\n",
      " 6   genre_id       int64 \n",
      "dtypes: int64(1), object(6)\n",
      "memory usage: 1.1+ GB\n"
     ]
    }
   ],
   "source": [
    "df_expanded_title_basics_1.info()"
   ]
  },
  {
   "cell_type": "code",
   "execution_count": null,
   "metadata": {},
   "outputs": [],
   "source": [
    "df_expanded_title_basics_1.tail(13)"
   ]
  },
  {
   "cell_type": "markdown",
   "metadata": {},
   "source": [
    "# Exportando datos"
   ]
  },
  {
   "cell_type": "code",
   "execution_count": 41,
   "metadata": {},
   "outputs": [],
   "source": [
    "# Exportar data clean\n",
    "#df_title_basics_1.to_csv('title_basics_1_cleaned.csv', index=False)\n",
    "df_title_basics_1.to_csv('title_basics_1_cleaned.csv', index=False, encoding='utf-8')\n"
   ]
  },
  {
   "cell_type": "code",
   "execution_count": 29,
   "metadata": {},
   "outputs": [
    {
     "name": "stdout",
     "output_type": "stream",
     "text": [
      "El archivo con el primer millón de registros ha sido creado: 'title_basics_first_million.csv'\n"
     ]
    }
   ],
   "source": [
    "# Seleccionar los primeros 1,000,000 de registros\n",
    "df_first_million = df_title_basics_1.iloc[:2]\n",
    "\n",
    "# Guardar el resultado en un nuevo archivo CSV\n",
    "df_first_million.to_csv('title_basics_first_million.csv', index=False)\n",
    "\n",
    "print(\"El archivo con el primer millón de registros ha sido creado: 'title_basics_first_million.csv'\")"
   ]
  },
  {
   "cell_type": "code",
   "execution_count": 31,
   "metadata": {},
   "outputs": [
    {
     "name": "stdout",
     "output_type": "stream",
     "text": [
      "Error en la fila 1: ['tconst  titleType   primaryTitle    originalTitle   isAdult startYear   genres']\n",
      "Error en la fila 2: ['tt0000001   short   Carmencita  Carmencita  0   1894    \"Documentary,Short\"']\n",
      "Error en la fila 3: ['']\n",
      "Se encontraron 3 filas problemáticas.\n"
     ]
    }
   ],
   "source": [
    "error_count = 0\n",
    "with open('title_basics_first_million.tsv', 'r', encoding='utf-8') as f:\n",
    "    for i, line in enumerate(f):\n",
    "        cols = line.strip().split('\\t')\n",
    "        if len(cols) != 7:\n",
    "            print(f\"Error en la fila {i+1}: {cols}\")\n",
    "            error_count += 1\n",
    "\n",
    "if error_count == 0:\n",
    "    print(\"No se encontraron errores en el archivo.\")\n",
    "else:\n",
    "    print(f\"Se encontraron {error_count} filas problemáticas.\")\n",
    "\n"
   ]
  },
  {
   "cell_type": "code",
   "execution_count": 14,
   "metadata": {},
   "outputs": [],
   "source": [
    "# Guardar la tabla de géneros únicos en un archivo CSV\n",
    "genres_unique.to_csv('genre_origin.csv', index=False)"
   ]
  },
  {
   "cell_type": "code",
   "execution_count": 36,
   "metadata": {},
   "outputs": [],
   "source": [
    "# Guardar el DataFrame normalizado en un archivo CSV\n",
    "df_expanded_title_basics_1.to_csv('title_basics_1.csv', index=False)"
   ]
  },
  {
   "cell_type": "markdown",
   "metadata": {},
   "source": [
    "###### 1er millon"
   ]
  },
  {
   "cell_type": "code",
   "execution_count": 12,
   "metadata": {},
   "outputs": [
    {
     "name": "stdout",
     "output_type": "stream",
     "text": [
      "El archivo con el primer millón de registros ha sido creado: 'title_basics_first_million.csv'\n"
     ]
    }
   ],
   "source": [
    "# Seleccionar los primeros 1,000,000 de registros\n",
    "df_first_million = df_expanded_title_basics_1.iloc[:1000000]\n",
    "\n",
    "# Guardar el resultado en un nuevo archivo CSV\n",
    "df_first_million.to_csv('title_basics_first_million.csv', index=False)\n",
    "\n",
    "print(\"El archivo con el primer millón de registros ha sido creado: 'title_basics_first_million.csv'\")"
   ]
  },
  {
   "cell_type": "markdown",
   "metadata": {},
   "source": [
    "###### 1 millon a 3 millones"
   ]
  },
  {
   "cell_type": "code",
   "execution_count": 15,
   "metadata": {},
   "outputs": [
    {
     "name": "stdout",
     "output_type": "stream",
     "text": [
      "El archivo ha sido creado\n"
     ]
    }
   ],
   "source": [
    "# Seleccionar registros desde 1,000,000 hasta 3,000,000\n",
    "df_second_million = df_expanded_title_basics_1.iloc[1000000:3000000]\n",
    "\n",
    "# Guardar el resultado en un nuevo archivo CSV\n",
    "df_second_million.to_csv('title_basics_second_million.csv', index=False)\n",
    "\n",
    "print(\"El archivo ha sido creado\")\n"
   ]
  },
  {
   "cell_type": "markdown",
   "metadata": {},
   "source": [
    "###### 3 millon a 5 millones"
   ]
  },
  {
   "cell_type": "code",
   "execution_count": 17,
   "metadata": {},
   "outputs": [
    {
     "name": "stdout",
     "output_type": "stream",
     "text": [
      "El archivo ha sido creado\n"
     ]
    }
   ],
   "source": [
    "# Seleccionar registros desde 1,000,000 hasta 3,000,000\n",
    "df_third_million = df_expanded_title_basics_1.iloc[3000000:5000000]\n",
    "\n",
    "# Guardar el resultado en un nuevo archivo CSV\n",
    "df_third_million.to_csv('title_basics_third_million.csv', index=False)\n",
    "\n",
    "print(\"El archivo ha sido creado\")"
   ]
  },
  {
   "cell_type": "markdown",
   "metadata": {},
   "source": [
    "###### 5 millon a 7 millones"
   ]
  },
  {
   "cell_type": "code",
   "execution_count": 18,
   "metadata": {},
   "outputs": [
    {
     "name": "stdout",
     "output_type": "stream",
     "text": [
      "El archivo ha sido creado\n"
     ]
    }
   ],
   "source": [
    "# Seleccionar registros desde 1,000,000 hasta 3,000,000\n",
    "df_fourth_million = df_expanded_title_basics_1.iloc[5000000:7000000]\n",
    "\n",
    "# Guardar el resultado en un nuevo archivo CSV\n",
    "df_fourth_million.to_csv('title_basics_fourth_million.csv', index=False)\n",
    "\n",
    "print(\"El archivo ha sido creado\")"
   ]
  },
  {
   "cell_type": "markdown",
   "metadata": {},
   "source": [
    "###### 7 millon a 9 millones"
   ]
  },
  {
   "cell_type": "code",
   "execution_count": 19,
   "metadata": {},
   "outputs": [
    {
     "name": "stdout",
     "output_type": "stream",
     "text": [
      "El archivo ha sido creado\n"
     ]
    }
   ],
   "source": [
    "# Seleccionar registros desde 1,000,000 hasta 3,000,000\n",
    "df_five_million = df_expanded_title_basics_1.iloc[7000000:9000000]\n",
    "\n",
    "# Guardar el resultado en un nuevo archivo CSV\n",
    "df_five_million.to_csv('title_basics_five_million.csv', index=False)\n",
    "\n",
    "print(\"El archivo ha sido creado\")"
   ]
  },
  {
   "cell_type": "markdown",
   "metadata": {},
   "source": [
    "###### 9 millon a 11 millones"
   ]
  },
  {
   "cell_type": "code",
   "execution_count": 20,
   "metadata": {},
   "outputs": [
    {
     "name": "stdout",
     "output_type": "stream",
     "text": [
      "El archivo ha sido creado\n"
     ]
    }
   ],
   "source": [
    "# Seleccionar registros desde 1,000,000 hasta 3,000,000\n",
    "df_six_million = df_expanded_title_basics_1.iloc[9000000:11000000]\n",
    "\n",
    "# Guardar el resultado en un nuevo archivo CSV\n",
    "df_six_million.to_csv('title_basics_six_million.csv', index=False)\n",
    "\n",
    "print(\"El archivo ha sido creado\")"
   ]
  },
  {
   "cell_type": "markdown",
   "metadata": {},
   "source": [
    "###### 11 millon a 13 millones"
   ]
  },
  {
   "cell_type": "code",
   "execution_count": 21,
   "metadata": {},
   "outputs": [
    {
     "name": "stdout",
     "output_type": "stream",
     "text": [
      "El archivo ha sido creado\n"
     ]
    }
   ],
   "source": [
    "# Seleccionar registros desde 1,000,000 hasta 3,000,000\n",
    "df_seven_million = df_expanded_title_basics_1.iloc[11000000:13000000]\n",
    "\n",
    "# Guardar el resultado en un nuevo archivo CSV\n",
    "df_seven_million.to_csv('title_basics_seven_million.csv', index=False)\n",
    "\n",
    "print(\"El archivo ha sido creado\")"
   ]
  },
  {
   "cell_type": "markdown",
   "metadata": {},
   "source": [
    "###### 13 millon a 15 millones"
   ]
  },
  {
   "cell_type": "code",
   "execution_count": 22,
   "metadata": {},
   "outputs": [
    {
     "name": "stdout",
     "output_type": "stream",
     "text": [
      "El archivo ha sido creado\n"
     ]
    }
   ],
   "source": [
    "# Seleccionar registros desde 1,000,000 hasta 3,000,000\n",
    "df_eight_million = df_expanded_title_basics_1.iloc[13000000:15000000]\n",
    "\n",
    "# Guardar el resultado en un nuevo archivo CSV\n",
    "df_eight_million.to_csv('title_basics_eight_million.csv', index=False)\n",
    "\n",
    "print(\"El archivo ha sido creado\")"
   ]
  },
  {
   "cell_type": "markdown",
   "metadata": {},
   "source": [
    "###### 15 millon a 17 millones"
   ]
  },
  {
   "cell_type": "code",
   "execution_count": 23,
   "metadata": {},
   "outputs": [
    {
     "name": "stdout",
     "output_type": "stream",
     "text": [
      "El archivo ha sido creado\n"
     ]
    }
   ],
   "source": [
    "# Seleccionar registros desde 1,000,000 hasta 3,000,000\n",
    "df_nine_million = df_expanded_title_basics_1.iloc[15000000:17000000]\n",
    "\n",
    "# Guardar el resultado en un nuevo archivo CSV\n",
    "df_nine_million.to_csv('title_basics_nine_million.csv', index=False)\n",
    "\n",
    "print(\"El archivo ha sido creado\")"
   ]
  },
  {
   "cell_type": "markdown",
   "metadata": {},
   "source": [
    "###### 17 millon a 19 millones"
   ]
  },
  {
   "cell_type": "code",
   "execution_count": 24,
   "metadata": {},
   "outputs": [
    {
     "name": "stdout",
     "output_type": "stream",
     "text": [
      "El archivo ha sido creado\n"
     ]
    }
   ],
   "source": [
    "# millones 11278834\n",
    "\n",
    "# Seleccionar registros desde 1,000,000 hasta 3,000,000\n",
    "df_ten_million = df_expanded_title_basics_1.iloc[17000000:18449703]\n",
    "\n",
    "# Guardar el resultado en un nuevo archivo CSV\n",
    "df_ten_million.to_csv('title_basics_ten_million.csv', index=False)\n",
    "\n",
    "print(\"El archivo ha sido creado\")"
   ]
  }
 ],
 "metadata": {
  "kernelspec": {
   "display_name": "mi_entorno",
   "language": "python",
   "name": "python3"
  },
  "language_info": {
   "codemirror_mode": {
    "name": "ipython",
    "version": 3
   },
   "file_extension": ".py",
   "mimetype": "text/x-python",
   "name": "python",
   "nbconvert_exporter": "python",
   "pygments_lexer": "ipython3",
   "version": "3.7.7"
  }
 },
 "nbformat": 4,
 "nbformat_minor": 2
}
