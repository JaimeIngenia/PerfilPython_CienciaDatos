{
 "cells": [
  {
   "cell_type": "markdown",
   "metadata": {},
   "source": [
    "# Importando librerías"
   ]
  },
  {
   "cell_type": "code",
   "execution_count": 17,
   "metadata": {},
   "outputs": [
    {
     "name": "stdout",
     "output_type": "stream",
     "text": [
      "Requirement already satisfied: missingno in c:\\users\\asus\\onedrive\\documentos\\1aaaaesposo_jaime\\u_trabajo\\perfilpython\\mi_entorno\\lib\\site-packages (0.5.2)"
     ]
    },
    {
     "name": "stderr",
     "output_type": "stream",
     "text": [
      "WARNING: You are using pip version 19.2.3, however version 24.0 is available.\n",
      "You should consider upgrading via the 'python -m pip install --upgrade pip' command.\n"
     ]
    },
    {
     "name": "stdout",
     "output_type": "stream",
     "text": [
      "\n",
      "Requirement already satisfied: matplotlib in c:\\users\\asus\\onedrive\\documentos\\1aaaaesposo_jaime\\u_trabajo\\perfilpython\\mi_entorno\\lib\\site-packages (from missingno) (3.5.3)\n",
      "Requirement already satisfied: numpy in c:\\users\\asus\\onedrive\\documentos\\1aaaaesposo_jaime\\u_trabajo\\perfilpython\\mi_entorno\\lib\\site-packages (from missingno) (1.21.6)\n",
      "Requirement already satisfied: seaborn in c:\\users\\asus\\onedrive\\documentos\\1aaaaesposo_jaime\\u_trabajo\\perfilpython\\mi_entorno\\lib\\site-packages (from missingno) (0.12.2)\n",
      "Requirement already satisfied: scipy in c:\\users\\asus\\onedrive\\documentos\\1aaaaesposo_jaime\\u_trabajo\\perfilpython\\mi_entorno\\lib\\site-packages (from missingno) (1.7.3)\n",
      "Requirement already satisfied: python-dateutil>=2.7 in c:\\users\\asus\\onedrive\\documentos\\1aaaaesposo_jaime\\u_trabajo\\perfilpython\\mi_entorno\\lib\\site-packages (from matplotlib->missingno) (2.9.0.post0)\n",
      "Requirement already satisfied: kiwisolver>=1.0.1 in c:\\users\\asus\\onedrive\\documentos\\1aaaaesposo_jaime\\u_trabajo\\perfilpython\\mi_entorno\\lib\\site-packages (from matplotlib->missingno) (1.4.5)\n",
      "Requirement already satisfied: pyparsing>=2.2.1 in c:\\users\\asus\\onedrive\\documentos\\1aaaaesposo_jaime\\u_trabajo\\perfilpython\\mi_entorno\\lib\\site-packages (from matplotlib->missingno) (3.1.4)\n",
      "Requirement already satisfied: fonttools>=4.22.0 in c:\\users\\asus\\onedrive\\documentos\\1aaaaesposo_jaime\\u_trabajo\\perfilpython\\mi_entorno\\lib\\site-packages (from matplotlib->missingno) (4.38.0)\n",
      "Requirement already satisfied: cycler>=0.10 in c:\\users\\asus\\onedrive\\documentos\\1aaaaesposo_jaime\\u_trabajo\\perfilpython\\mi_entorno\\lib\\site-packages (from matplotlib->missingno) (0.11.0)\n",
      "Requirement already satisfied: packaging>=20.0 in c:\\users\\asus\\onedrive\\documentos\\1aaaaesposo_jaime\\u_trabajo\\perfilpython\\mi_entorno\\lib\\site-packages (from matplotlib->missingno) (24.0)\n",
      "Requirement already satisfied: pillow>=6.2.0 in c:\\users\\asus\\onedrive\\documentos\\1aaaaesposo_jaime\\u_trabajo\\perfilpython\\mi_entorno\\lib\\site-packages (from matplotlib->missingno) (9.5.0)\n",
      "Requirement already satisfied: pandas>=0.25 in c:\\users\\asus\\onedrive\\documentos\\1aaaaesposo_jaime\\u_trabajo\\perfilpython\\mi_entorno\\lib\\site-packages (from seaborn->missingno) (1.3.5)\n",
      "Requirement already satisfied: typing_extensions; python_version < \"3.8\" in c:\\users\\asus\\onedrive\\documentos\\1aaaaesposo_jaime\\u_trabajo\\perfilpython\\mi_entorno\\lib\\site-packages (from seaborn->missingno) (4.7.1)\n",
      "Requirement already satisfied: six>=1.5 in c:\\users\\asus\\onedrive\\documentos\\1aaaaesposo_jaime\\u_trabajo\\perfilpython\\mi_entorno\\lib\\site-packages (from python-dateutil>=2.7->matplotlib->missingno) (1.16.0)\n",
      "Requirement already satisfied: pytz>=2017.3 in c:\\users\\asus\\onedrive\\documentos\\1aaaaesposo_jaime\\u_trabajo\\perfilpython\\mi_entorno\\lib\\site-packages (from pandas>=0.25->seaborn->missingno) (2024.2)\n"
     ]
    }
   ],
   "source": [
    "# Valores faltantes\n",
    "!pip install missingno"
   ]
  },
  {
   "cell_type": "code",
   "execution_count": 1,
   "metadata": {},
   "outputs": [],
   "source": [
    "import pandas as pd\n",
    "import numpy as np\n",
    "# Valores faltantes\n",
    "import missingno as msno\n",
    "# Atípicos\n",
    "import matplotlib.pyplot as plt\n",
    "import seaborn as sns"
   ]
  },
  {
   "cell_type": "markdown",
   "metadata": {},
   "source": [
    "# Importando las bases de datos"
   ]
  },
  {
   "cell_type": "code",
   "execution_count": 2,
   "metadata": {},
   "outputs": [
    {
     "name": "stderr",
     "output_type": "stream",
     "text": [
      "c:\\Users\\ASUS\\OneDrive\\Documentos\\1aaaaEsposo_Jaime\\U_Trabajo\\perfilPython\\mi_entorno\\lib\\site-packages\\IPython\\core\\interactiveshell.py:3553: DtypeWarning: Columns (4) have mixed types.Specify dtype option on import or set low_memory=False.\n",
      "  exec(code_obj, self.user_global_ns, self.user_ns)\n"
     ]
    }
   ],
   "source": [
    "#df = pd.read_csv('./db/title.basics.tsv', encoding='ISO-8859-1')\n",
    "df_title_basics_1 = pd.read_csv('./db/title.basics.tsv', sep='\\t', on_bad_lines='skip', dtype={'columna_4': 'str'})"
   ]
  },
  {
   "cell_type": "code",
   "execution_count": 3,
   "metadata": {},
   "outputs": [],
   "source": [
    "df_title_ratings_2 = pd.read_csv('./db/title.ratings.tsv', sep='\\t', on_bad_lines='skip')"
   ]
  },
  {
   "cell_type": "code",
   "execution_count": 4,
   "metadata": {},
   "outputs": [],
   "source": [
    "df_name_basics_3 = pd.read_csv('./db/name.basics.tsv', sep='\\t', on_bad_lines='skip')"
   ]
  },
  {
   "cell_type": "code",
   "execution_count": 5,
   "metadata": {},
   "outputs": [],
   "source": [
    "df_title_crew_4 = pd.read_csv('./db/title.crew.tsv', sep='\\t', on_bad_lines='skip')"
   ]
  },
  {
   "cell_type": "code",
   "execution_count": 6,
   "metadata": {},
   "outputs": [],
   "source": [
    "df_title_episode_5 = pd.read_csv('./db/title.episode.tsv', sep='\\t', on_bad_lines='skip')"
   ]
  },
  {
   "cell_type": "markdown",
   "metadata": {},
   "source": [
    "# Exploración de datos"
   ]
  },
  {
   "cell_type": "markdown",
   "metadata": {},
   "source": [
    "##### tail()"
   ]
  },
  {
   "cell_type": "code",
   "execution_count": 7,
   "metadata": {},
   "outputs": [
    {
     "data": {
      "text/html": [
       "<div>\n",
       "<style scoped>\n",
       "    .dataframe tbody tr th:only-of-type {\n",
       "        vertical-align: middle;\n",
       "    }\n",
       "\n",
       "    .dataframe tbody tr th {\n",
       "        vertical-align: top;\n",
       "    }\n",
       "\n",
       "    .dataframe thead th {\n",
       "        text-align: right;\n",
       "    }\n",
       "</style>\n",
       "<table border=\"1\" class=\"dataframe\">\n",
       "  <thead>\n",
       "    <tr style=\"text-align: right;\">\n",
       "      <th></th>\n",
       "      <th>tconst</th>\n",
       "      <th>titleType</th>\n",
       "      <th>primaryTitle</th>\n",
       "      <th>originalTitle</th>\n",
       "      <th>isAdult</th>\n",
       "      <th>startYear</th>\n",
       "      <th>endYear</th>\n",
       "      <th>runtimeMinutes</th>\n",
       "      <th>genres</th>\n",
       "    </tr>\n",
       "  </thead>\n",
       "  <tbody>\n",
       "    <tr>\n",
       "      <th>11278844</th>\n",
       "      <td>tt9916852</td>\n",
       "      <td>tvEpisode</td>\n",
       "      <td>Episode #3.20</td>\n",
       "      <td>Episode #3.20</td>\n",
       "      <td>0</td>\n",
       "      <td>2010</td>\n",
       "      <td>\\N</td>\n",
       "      <td>\\N</td>\n",
       "      <td>Action,Drama,Family</td>\n",
       "    </tr>\n",
       "    <tr>\n",
       "      <th>11278845</th>\n",
       "      <td>tt9916856</td>\n",
       "      <td>short</td>\n",
       "      <td>The Wind</td>\n",
       "      <td>The Wind</td>\n",
       "      <td>0</td>\n",
       "      <td>2015</td>\n",
       "      <td>\\N</td>\n",
       "      <td>27</td>\n",
       "      <td>Short</td>\n",
       "    </tr>\n",
       "    <tr>\n",
       "      <th>11278846</th>\n",
       "      <td>tt9916880</td>\n",
       "      <td>tvEpisode</td>\n",
       "      <td>Horrid Henry Knows It All</td>\n",
       "      <td>Horrid Henry Knows It All</td>\n",
       "      <td>0</td>\n",
       "      <td>2014</td>\n",
       "      <td>\\N</td>\n",
       "      <td>10</td>\n",
       "      <td>Adventure,Animation,Comedy</td>\n",
       "    </tr>\n",
       "  </tbody>\n",
       "</table>\n",
       "</div>"
      ],
      "text/plain": [
       "             tconst  titleType               primaryTitle  \\\n",
       "11278844  tt9916852  tvEpisode              Episode #3.20   \n",
       "11278845  tt9916856      short                   The Wind   \n",
       "11278846  tt9916880  tvEpisode  Horrid Henry Knows It All   \n",
       "\n",
       "                      originalTitle isAdult startYear endYear runtimeMinutes  \\\n",
       "11278844              Episode #3.20       0      2010      \\N             \\N   \n",
       "11278845                   The Wind       0      2015      \\N             27   \n",
       "11278846  Horrid Henry Knows It All       0      2014      \\N             10   \n",
       "\n",
       "                              genres  \n",
       "11278844         Action,Drama,Family  \n",
       "11278845                       Short  \n",
       "11278846  Adventure,Animation,Comedy  "
      ]
     },
     "execution_count": 7,
     "metadata": {},
     "output_type": "execute_result"
    }
   ],
   "source": [
    "df_title_basics_1.tail(3)"
   ]
  },
  {
   "cell_type": "code",
   "execution_count": 8,
   "metadata": {},
   "outputs": [
    {
     "data": {
      "text/html": [
       "<div>\n",
       "<style scoped>\n",
       "    .dataframe tbody tr th:only-of-type {\n",
       "        vertical-align: middle;\n",
       "    }\n",
       "\n",
       "    .dataframe tbody tr th {\n",
       "        vertical-align: top;\n",
       "    }\n",
       "\n",
       "    .dataframe thead th {\n",
       "        text-align: right;\n",
       "    }\n",
       "</style>\n",
       "<table border=\"1\" class=\"dataframe\">\n",
       "  <thead>\n",
       "    <tr style=\"text-align: right;\">\n",
       "      <th></th>\n",
       "      <th>tconst</th>\n",
       "      <th>averageRating</th>\n",
       "      <th>numVotes</th>\n",
       "    </tr>\n",
       "  </thead>\n",
       "  <tbody>\n",
       "    <tr>\n",
       "      <th>1506324</th>\n",
       "      <td>tt9916778</td>\n",
       "      <td>7.2</td>\n",
       "      <td>37</td>\n",
       "    </tr>\n",
       "    <tr>\n",
       "      <th>1506325</th>\n",
       "      <td>tt9916840</td>\n",
       "      <td>6.9</td>\n",
       "      <td>11</td>\n",
       "    </tr>\n",
       "    <tr>\n",
       "      <th>1506326</th>\n",
       "      <td>tt9916880</td>\n",
       "      <td>7.9</td>\n",
       "      <td>9</td>\n",
       "    </tr>\n",
       "  </tbody>\n",
       "</table>\n",
       "</div>"
      ],
      "text/plain": [
       "            tconst  averageRating  numVotes\n",
       "1506324  tt9916778            7.2        37\n",
       "1506325  tt9916840            6.9        11\n",
       "1506326  tt9916880            7.9         9"
      ]
     },
     "execution_count": 8,
     "metadata": {},
     "output_type": "execute_result"
    }
   ],
   "source": [
    "df_title_ratings_2.tail(3)"
   ]
  },
  {
   "cell_type": "code",
   "execution_count": 9,
   "metadata": {},
   "outputs": [
    {
     "data": {
      "text/html": [
       "<div>\n",
       "<style scoped>\n",
       "    .dataframe tbody tr th:only-of-type {\n",
       "        vertical-align: middle;\n",
       "    }\n",
       "\n",
       "    .dataframe tbody tr th {\n",
       "        vertical-align: top;\n",
       "    }\n",
       "\n",
       "    .dataframe thead th {\n",
       "        text-align: right;\n",
       "    }\n",
       "</style>\n",
       "<table border=\"1\" class=\"dataframe\">\n",
       "  <thead>\n",
       "    <tr style=\"text-align: right;\">\n",
       "      <th></th>\n",
       "      <th>nconst</th>\n",
       "      <th>primaryName</th>\n",
       "      <th>birthYear</th>\n",
       "      <th>deathYear</th>\n",
       "      <th>primaryProfession</th>\n",
       "      <th>knownForTitles</th>\n",
       "    </tr>\n",
       "  </thead>\n",
       "  <tbody>\n",
       "    <tr>\n",
       "      <th>13992783</th>\n",
       "      <td>nm9993717</td>\n",
       "      <td>Harikrishnan Rajan</td>\n",
       "      <td>\\N</td>\n",
       "      <td>\\N</td>\n",
       "      <td>cinematographer</td>\n",
       "      <td>tt8736744</td>\n",
       "    </tr>\n",
       "    <tr>\n",
       "      <th>13992784</th>\n",
       "      <td>nm9993718</td>\n",
       "      <td>Aayush Nair</td>\n",
       "      <td>\\N</td>\n",
       "      <td>\\N</td>\n",
       "      <td>cinematographer</td>\n",
       "      <td>tt8736744</td>\n",
       "    </tr>\n",
       "    <tr>\n",
       "      <th>13992785</th>\n",
       "      <td>nm9993719</td>\n",
       "      <td>Andre Hill</td>\n",
       "      <td>\\N</td>\n",
       "      <td>\\N</td>\n",
       "      <td>\\N</td>\n",
       "      <td>\\N</td>\n",
       "    </tr>\n",
       "  </tbody>\n",
       "</table>\n",
       "</div>"
      ],
      "text/plain": [
       "             nconst         primaryName birthYear deathYear primaryProfession  \\\n",
       "13992783  nm9993717  Harikrishnan Rajan        \\N        \\N   cinematographer   \n",
       "13992784  nm9993718         Aayush Nair        \\N        \\N   cinematographer   \n",
       "13992785  nm9993719          Andre Hill        \\N        \\N                \\N   \n",
       "\n",
       "         knownForTitles  \n",
       "13992783      tt8736744  \n",
       "13992784      tt8736744  \n",
       "13992785             \\N  "
      ]
     },
     "execution_count": 9,
     "metadata": {},
     "output_type": "execute_result"
    }
   ],
   "source": [
    "df_name_basics_3.tail(3)"
   ]
  },
  {
   "cell_type": "code",
   "execution_count": 10,
   "metadata": {},
   "outputs": [
    {
     "data": {
      "text/html": [
       "<div>\n",
       "<style scoped>\n",
       "    .dataframe tbody tr th:only-of-type {\n",
       "        vertical-align: middle;\n",
       "    }\n",
       "\n",
       "    .dataframe tbody tr th {\n",
       "        vertical-align: top;\n",
       "    }\n",
       "\n",
       "    .dataframe thead th {\n",
       "        text-align: right;\n",
       "    }\n",
       "</style>\n",
       "<table border=\"1\" class=\"dataframe\">\n",
       "  <thead>\n",
       "    <tr style=\"text-align: right;\">\n",
       "      <th></th>\n",
       "      <th>tconst</th>\n",
       "      <th>directors</th>\n",
       "      <th>writers</th>\n",
       "    </tr>\n",
       "  </thead>\n",
       "  <tbody>\n",
       "    <tr>\n",
       "      <th>10612477</th>\n",
       "      <td>tt9916852</td>\n",
       "      <td>nm1485677</td>\n",
       "      <td>nm9187127,nm1485677,nm9826385,nm9299459,nm1628284</td>\n",
       "    </tr>\n",
       "    <tr>\n",
       "      <th>10612478</th>\n",
       "      <td>tt9916856</td>\n",
       "      <td>nm10538645</td>\n",
       "      <td>nm6951431</td>\n",
       "    </tr>\n",
       "    <tr>\n",
       "      <th>10612479</th>\n",
       "      <td>tt9916880</td>\n",
       "      <td>nm0996406</td>\n",
       "      <td>nm1482639,nm2586970</td>\n",
       "    </tr>\n",
       "  </tbody>\n",
       "</table>\n",
       "</div>"
      ],
      "text/plain": [
       "             tconst   directors  \\\n",
       "10612477  tt9916852   nm1485677   \n",
       "10612478  tt9916856  nm10538645   \n",
       "10612479  tt9916880   nm0996406   \n",
       "\n",
       "                                                    writers  \n",
       "10612477  nm9187127,nm1485677,nm9826385,nm9299459,nm1628284  \n",
       "10612478                                          nm6951431  \n",
       "10612479                                nm1482639,nm2586970  "
      ]
     },
     "execution_count": 10,
     "metadata": {},
     "output_type": "execute_result"
    }
   ],
   "source": [
    "df_title_crew_4.tail(3)"
   ]
  },
  {
   "cell_type": "code",
   "execution_count": 11,
   "metadata": {},
   "outputs": [
    {
     "data": {
      "text/html": [
       "<div>\n",
       "<style scoped>\n",
       "    .dataframe tbody tr th:only-of-type {\n",
       "        vertical-align: middle;\n",
       "    }\n",
       "\n",
       "    .dataframe tbody tr th {\n",
       "        vertical-align: top;\n",
       "    }\n",
       "\n",
       "    .dataframe thead th {\n",
       "        text-align: right;\n",
       "    }\n",
       "</style>\n",
       "<table border=\"1\" class=\"dataframe\">\n",
       "  <thead>\n",
       "    <tr style=\"text-align: right;\">\n",
       "      <th></th>\n",
       "      <th>tconst</th>\n",
       "      <th>parentTconst</th>\n",
       "      <th>seasonNumber</th>\n",
       "      <th>episodeNumber</th>\n",
       "    </tr>\n",
       "  </thead>\n",
       "  <tbody>\n",
       "    <tr>\n",
       "      <th>8662780</th>\n",
       "      <td>tt9916850</td>\n",
       "      <td>tt1289683</td>\n",
       "      <td>3</td>\n",
       "      <td>19</td>\n",
       "    </tr>\n",
       "    <tr>\n",
       "      <th>8662781</th>\n",
       "      <td>tt9916852</td>\n",
       "      <td>tt1289683</td>\n",
       "      <td>3</td>\n",
       "      <td>20</td>\n",
       "    </tr>\n",
       "    <tr>\n",
       "      <th>8662782</th>\n",
       "      <td>tt9916880</td>\n",
       "      <td>tt0985991</td>\n",
       "      <td>4</td>\n",
       "      <td>2</td>\n",
       "    </tr>\n",
       "  </tbody>\n",
       "</table>\n",
       "</div>"
      ],
      "text/plain": [
       "            tconst parentTconst seasonNumber episodeNumber\n",
       "8662780  tt9916850    tt1289683            3            19\n",
       "8662781  tt9916852    tt1289683            3            20\n",
       "8662782  tt9916880    tt0985991            4             2"
      ]
     },
     "execution_count": 11,
     "metadata": {},
     "output_type": "execute_result"
    }
   ],
   "source": [
    "df_title_episode_5.tail(3)"
   ]
  },
  {
   "cell_type": "markdown",
   "metadata": {},
   "source": [
    "##### info()"
   ]
  },
  {
   "cell_type": "code",
   "execution_count": 12,
   "metadata": {},
   "outputs": [
    {
     "name": "stdout",
     "output_type": "stream",
     "text": [
      "<class 'pandas.core.frame.DataFrame'>\n",
      "RangeIndex: 11278847 entries, 0 to 11278846\n",
      "Data columns (total 9 columns):\n",
      " #   Column          Dtype \n",
      "---  ------          ----- \n",
      " 0   tconst          object\n",
      " 1   titleType       object\n",
      " 2   primaryTitle    object\n",
      " 3   originalTitle   object\n",
      " 4   isAdult         object\n",
      " 5   startYear       object\n",
      " 6   endYear         object\n",
      " 7   runtimeMinutes  object\n",
      " 8   genres          object\n",
      "dtypes: object(9)\n",
      "memory usage: 774.5+ MB\n"
     ]
    }
   ],
   "source": [
    "df_title_basics_1.info()"
   ]
  },
  {
   "cell_type": "code",
   "execution_count": 13,
   "metadata": {},
   "outputs": [
    {
     "name": "stdout",
     "output_type": "stream",
     "text": [
      "<class 'pandas.core.frame.DataFrame'>\n",
      "RangeIndex: 1506327 entries, 0 to 1506326\n",
      "Data columns (total 3 columns):\n",
      " #   Column         Non-Null Count    Dtype  \n",
      "---  ------         --------------    -----  \n",
      " 0   tconst         1506327 non-null  object \n",
      " 1   averageRating  1506327 non-null  float64\n",
      " 2   numVotes       1506327 non-null  int64  \n",
      "dtypes: float64(1), int64(1), object(1)\n",
      "memory usage: 34.5+ MB\n"
     ]
    }
   ],
   "source": [
    "df_title_ratings_2.info()"
   ]
  },
  {
   "cell_type": "code",
   "execution_count": 14,
   "metadata": {},
   "outputs": [
    {
     "name": "stdout",
     "output_type": "stream",
     "text": [
      "<class 'pandas.core.frame.DataFrame'>\n",
      "RangeIndex: 13992786 entries, 0 to 13992785\n",
      "Data columns (total 6 columns):\n",
      " #   Column             Dtype \n",
      "---  ------             ----- \n",
      " 0   nconst             object\n",
      " 1   primaryName        object\n",
      " 2   birthYear          object\n",
      " 3   deathYear          object\n",
      " 4   primaryProfession  object\n",
      " 5   knownForTitles     object\n",
      "dtypes: object(6)\n",
      "memory usage: 640.5+ MB\n"
     ]
    }
   ],
   "source": [
    "df_name_basics_3.info()"
   ]
  },
  {
   "cell_type": "code",
   "execution_count": 15,
   "metadata": {},
   "outputs": [
    {
     "name": "stdout",
     "output_type": "stream",
     "text": [
      "<class 'pandas.core.frame.DataFrame'>\n",
      "RangeIndex: 10612480 entries, 0 to 10612479\n",
      "Data columns (total 3 columns):\n",
      " #   Column     Dtype \n",
      "---  ------     ----- \n",
      " 0   tconst     object\n",
      " 1   directors  object\n",
      " 2   writers    object\n",
      "dtypes: object(3)\n",
      "memory usage: 242.9+ MB\n"
     ]
    }
   ],
   "source": [
    "df_title_crew_4.info()"
   ]
  },
  {
   "cell_type": "code",
   "execution_count": 16,
   "metadata": {},
   "outputs": [
    {
     "name": "stdout",
     "output_type": "stream",
     "text": [
      "<class 'pandas.core.frame.DataFrame'>\n",
      "RangeIndex: 8662783 entries, 0 to 8662782\n",
      "Data columns (total 4 columns):\n",
      " #   Column         Dtype \n",
      "---  ------         ----- \n",
      " 0   tconst         object\n",
      " 1   parentTconst   object\n",
      " 2   seasonNumber   object\n",
      " 3   episodeNumber  object\n",
      "dtypes: object(4)\n",
      "memory usage: 264.4+ MB\n"
     ]
    }
   ],
   "source": [
    "df_title_episode_5.info()"
   ]
  },
  {
   "cell_type": "markdown",
   "metadata": {},
   "source": [
    "# Valores nulos"
   ]
  },
  {
   "cell_type": "code",
   "execution_count": 7,
   "metadata": {},
   "outputs": [
    {
     "data": {
      "text/plain": [
       "tconst              0\n",
       "titleType           0\n",
       "primaryTitle       12\n",
       "originalTitle      12\n",
       "isAdult             0\n",
       "startYear           0\n",
       "endYear             0\n",
       "runtimeMinutes      0\n",
       "genres            633\n",
       "dtype: int64"
      ]
     },
     "execution_count": 7,
     "metadata": {},
     "output_type": "execute_result"
    }
   ],
   "source": [
    "# Matriz de valores faltantes\n",
    "\n",
    "#msno.matrix(df_title_basics_1)\n",
    "\n",
    "df_nulos_title_basics_1 = df_title_basics_1.isnull().sum()\n",
    "\n",
    "df_nulos_title_basics_1\n"
   ]
  },
  {
   "cell_type": "code",
   "execution_count": 8,
   "metadata": {},
   "outputs": [
    {
     "data": {
      "text/plain": [
       "tconst           0\n",
       "averageRating    0\n",
       "numVotes         0\n",
       "dtype: int64"
      ]
     },
     "execution_count": 8,
     "metadata": {},
     "output_type": "execute_result"
    }
   ],
   "source": [
    "# msno.matrix(df_title_ratings_2)\n",
    "\n",
    "df_nulos_title_ratings_2 = df_title_ratings_2.isnull().sum()\n",
    "\n",
    "df_nulos_title_ratings_2\n"
   ]
  },
  {
   "cell_type": "code",
   "execution_count": 12,
   "metadata": {},
   "outputs": [
    {
     "data": {
      "text/plain": [
       "nconst               0\n",
       "primaryName          4\n",
       "birthYear            0\n",
       "deathYear            0\n",
       "primaryProfession    0\n",
       "knownForTitles       0\n",
       "dtype: int64"
      ]
     },
     "execution_count": 12,
     "metadata": {},
     "output_type": "execute_result"
    }
   ],
   "source": [
    "# msno.matrix(df_name_basics_3)\n",
    "df_nulos_name_basics_3 = df_name_basics_3.isnull().sum()\n",
    "\n",
    "df_nulos_name_basics_3\n"
   ]
  },
  {
   "cell_type": "code",
   "execution_count": 10,
   "metadata": {},
   "outputs": [
    {
     "data": {
      "text/plain": [
       "tconst       0\n",
       "directors    0\n",
       "writers      0\n",
       "dtype: int64"
      ]
     },
     "execution_count": 10,
     "metadata": {},
     "output_type": "execute_result"
    }
   ],
   "source": [
    "# msno.matrix(df_title_crew_4)\n",
    "\n",
    "df_nulos_title_crew_4 = df_title_crew_4.isnull().sum()\n",
    "\n",
    "df_nulos_title_crew_4\n",
    "\n"
   ]
  },
  {
   "cell_type": "code",
   "execution_count": 11,
   "metadata": {},
   "outputs": [
    {
     "data": {
      "text/plain": [
       "tconst           0\n",
       "parentTconst     0\n",
       "seasonNumber     0\n",
       "episodeNumber    0\n",
       "dtype: int64"
      ]
     },
     "execution_count": 11,
     "metadata": {},
     "output_type": "execute_result"
    }
   ],
   "source": [
    "#msno.matrix(df_title_episode_5)\n",
    "df_nulos_title_episode_5 = df_title_episode_5.isnull().sum()\n",
    "\n",
    "df_nulos_title_episode_5"
   ]
  },
  {
   "cell_type": "markdown",
   "metadata": {},
   "source": [
    "##### Grafica de bigotes\n"
   ]
  },
  {
   "cell_type": "code",
   "execution_count": 19,
   "metadata": {},
   "outputs": [
    {
     "name": "stdout",
     "output_type": "stream",
     "text": [
      "Index([], dtype='object')\n"
     ]
    }
   ],
   "source": [
    "# Seleccionar las columnas numéricas\n",
    "columnas_numericas_1 = df_title_basics_1.select_dtypes(include=['number']).columns\n",
    "\n",
    "\n",
    "# Imprimir los nombres de las columnas numéricas\n",
    "print(columnas_numericas_1)"
   ]
  },
  {
   "cell_type": "code",
   "execution_count": 14,
   "metadata": {},
   "outputs": [
    {
     "name": "stdout",
     "output_type": "stream",
     "text": [
      "Index(['averageRating', 'numVotes'], dtype='object')\n"
     ]
    }
   ],
   "source": [
    "columnas_numericas_2 = df_title_ratings_2.select_dtypes(include=['number']).columns\n",
    "\n",
    "# Imprimir los nombres de las columnas numéricas\n",
    "print(columnas_numericas_2)\n"
   ]
  },
  {
   "cell_type": "code",
   "execution_count": 15,
   "metadata": {},
   "outputs": [
    {
     "name": "stdout",
     "output_type": "stream",
     "text": [
      "Index([], dtype='object')\n"
     ]
    }
   ],
   "source": [
    "columnas_numericas_3 = df_name_basics_3.select_dtypes(include=['number']).columns\n",
    "\n",
    "# Imprimir los nombres de las columnas numéricas\n",
    "print(columnas_numericas_3)"
   ]
  },
  {
   "cell_type": "code",
   "execution_count": 16,
   "metadata": {},
   "outputs": [
    {
     "name": "stdout",
     "output_type": "stream",
     "text": [
      "Index([], dtype='object')\n"
     ]
    }
   ],
   "source": [
    "columnas_numericas_4 = df_title_crew_4.select_dtypes(include=['number']).columns\n",
    "\n",
    "# Imprimir los nombres de las columnas numéricas\n",
    "print(columnas_numericas_4)"
   ]
  },
  {
   "cell_type": "code",
   "execution_count": 18,
   "metadata": {},
   "outputs": [
    {
     "name": "stdout",
     "output_type": "stream",
     "text": [
      "Index([], dtype='object')\n"
     ]
    }
   ],
   "source": [
    "columnas_numericas_5 = df_title_episode_5.select_dtypes(include=['number']).columns\n",
    "\n",
    "# Imprimir los nombres de las columnas numéricas\n",
    "print(columnas_numericas_5)"
   ]
  },
  {
   "cell_type": "code",
   "execution_count": 20,
   "metadata": {},
   "outputs": [],
   "source": [
    "#Definir la función para generar boxplots\n",
    "\n",
    "def plot_boxplots(df, columns):\n",
    "    num_columns = len(columns)\n",
    "    num_rows = (num_columns + 2) // 3  # 3 boxplots por fila\n",
    "    fig, axes = plt.subplots(num_rows, 3, figsize=(18, num_rows * 4))\n",
    "    axes = axes.flatten()\n",
    "\n",
    "    for i, col in enumerate(columns):\n",
    "        sns.boxplot(y=df[col], ax=axes[i])\n",
    "        axes[i].set_title(f'Boxplot de {col}')\n",
    "        axes[i].set_ylabel(col)\n",
    "        axes[i].grid(axis='y')\n",
    "\n",
    "    # Ocultar los subplots vacíos\n",
    "    for j in range(i + 1, len(axes)):\n",
    "        axes[j].set_visible(False)\n",
    "\n",
    "    plt.tight_layout()\n",
    "    plt.show()\n"
   ]
  },
  {
   "cell_type": "code",
   "execution_count": 22,
   "metadata": {},
   "outputs": [
    {
     "data": {
      "image/png": "[encoded data removed]",
      "text/plain": [
       "<Figure size 1800x400 with 3 Axes>"
      ]
     },
     "metadata": {},
     "output_type": "display_data"
    }
   ],
   "source": [
    "plot_boxplots(df_title_ratings_2, columnas_numericas_2)"
   ]
  }
 ],
 "metadata": {
  "kernelspec": {
   "display_name": "mi_entorno",
   "language": "python",
   "name": "python3"
  },
  "language_info": {
   "codemirror_mode": {
    "name": "ipython",
    "version": 3
   },
   "file_extension": ".py",
   "mimetype": "text/x-python",
   "name": "python",
   "nbconvert_exporter": "python",
   "pygments_lexer": "ipython3",
   "version": "3.7.7"
  }
 },
 "nbformat": 4,
 "nbformat_minor": 2
}
