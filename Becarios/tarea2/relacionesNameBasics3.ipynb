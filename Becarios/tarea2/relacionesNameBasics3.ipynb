{
 "cells": [
  {
   "cell_type": "markdown",
   "metadata": {},
   "source": [
    "# Importando librerías"
   ]
  },
  {
   "cell_type": "code",
   "execution_count": 2,
   "metadata": {},
   "outputs": [],
   "source": [
    "import pandas as pd\n",
    "import numpy as np\n",
    "# Valores faltantes\n",
    "import missingno as msno\n",
    "# Atípicos\n",
    "import matplotlib.pyplot as plt\n",
    "import seaborn as sns"
   ]
  },
  {
   "cell_type": "markdown",
   "metadata": {},
   "source": [
    "# Importando las bases de datos"
   ]
  },
  {
   "cell_type": "code",
   "execution_count": 3,
   "metadata": {},
   "outputs": [],
   "source": [
    "df_name_basics_3 = pd.read_csv('./db/name.basics.tsv', sep='\\t', on_bad_lines='skip')"
   ]
  },
  {
   "cell_type": "markdown",
   "metadata": {},
   "source": [
    "# Exploración de datos"
   ]
  },
  {
   "cell_type": "code",
   "execution_count": 4,
   "metadata": {},
   "outputs": [
    {
     "data": {
      "text/plain": [
       "(13992786, 6)"
      ]
     },
     "execution_count": 4,
     "metadata": {},
     "output_type": "execute_result"
    }
   ],
   "source": [
    "df_name_basics_3.shape\n",
    "#(13992786, 6)"
   ]
  },
  {
   "cell_type": "markdown",
   "metadata": {},
   "source": [
    "##### Reemplazar para que numpy entienda valores faltantes\n"
   ]
  },
  {
   "cell_type": "code",
   "execution_count": 5,
   "metadata": {},
   "outputs": [],
   "source": [
    "df_name_basics_3.replace({'\\\\N': np.nan}, inplace=True)"
   ]
  },
  {
   "cell_type": "code",
   "execution_count": 6,
   "metadata": {},
   "outputs": [
    {
     "data": {
      "text/html": [
       "<div>\n",
       "<style scoped>\n",
       "    .dataframe tbody tr th:only-of-type {\n",
       "        vertical-align: middle;\n",
       "    }\n",
       "\n",
       "    .dataframe tbody tr th {\n",
       "        vertical-align: top;\n",
       "    }\n",
       "\n",
       "    .dataframe thead th {\n",
       "        text-align: right;\n",
       "    }\n",
       "</style>\n",
       "<table border=\"1\" class=\"dataframe\">\n",
       "  <thead>\n",
       "    <tr style=\"text-align: right;\">\n",
       "      <th></th>\n",
       "      <th>nconst</th>\n",
       "      <th>primaryName</th>\n",
       "      <th>birthYear</th>\n",
       "      <th>deathYear</th>\n",
       "      <th>primaryProfession</th>\n",
       "      <th>knownForTitles</th>\n",
       "    </tr>\n",
       "  </thead>\n",
       "  <tbody>\n",
       "    <tr>\n",
       "      <th>13992773</th>\n",
       "      <td>nm9993706</td>\n",
       "      <td>Michal Jackowski</td>\n",
       "      <td>NaN</td>\n",
       "      <td>NaN</td>\n",
       "      <td>sound_department</td>\n",
       "      <td>tt8744250</td>\n",
       "    </tr>\n",
       "    <tr>\n",
       "      <th>13992774</th>\n",
       "      <td>nm9993707</td>\n",
       "      <td>Alexandra Rago</td>\n",
       "      <td>NaN</td>\n",
       "      <td>NaN</td>\n",
       "      <td>NaN</td>\n",
       "      <td>NaN</td>\n",
       "    </tr>\n",
       "    <tr>\n",
       "      <th>13992775</th>\n",
       "      <td>nm9993708</td>\n",
       "      <td>Eli Bevins</td>\n",
       "      <td>NaN</td>\n",
       "      <td>NaN</td>\n",
       "      <td>producer,director,writer</td>\n",
       "      <td>tt11702702,tt14508814,tt11772904,tt11772812</td>\n",
       "    </tr>\n",
       "    <tr>\n",
       "      <th>13992776</th>\n",
       "      <td>nm9993709</td>\n",
       "      <td>Lu Bevins</td>\n",
       "      <td>NaN</td>\n",
       "      <td>NaN</td>\n",
       "      <td>producer,director,writer</td>\n",
       "      <td>tt17717854,tt11772904,tt11772812,tt11697102</td>\n",
       "    </tr>\n",
       "    <tr>\n",
       "      <th>13992777</th>\n",
       "      <td>nm9993710</td>\n",
       "      <td>Nestor Rudnytskyy</td>\n",
       "      <td>NaN</td>\n",
       "      <td>NaN</td>\n",
       "      <td>NaN</td>\n",
       "      <td>NaN</td>\n",
       "    </tr>\n",
       "    <tr>\n",
       "      <th>13992778</th>\n",
       "      <td>nm9993711</td>\n",
       "      <td>David Gluzman</td>\n",
       "      <td>NaN</td>\n",
       "      <td>NaN</td>\n",
       "      <td>NaN</td>\n",
       "      <td>NaN</td>\n",
       "    </tr>\n",
       "    <tr>\n",
       "      <th>13992779</th>\n",
       "      <td>nm9993712</td>\n",
       "      <td>Corny O'Connell</td>\n",
       "      <td>NaN</td>\n",
       "      <td>NaN</td>\n",
       "      <td>NaN</td>\n",
       "      <td>NaN</td>\n",
       "    </tr>\n",
       "    <tr>\n",
       "      <th>13992780</th>\n",
       "      <td>nm9993713</td>\n",
       "      <td>Sambit Mishra</td>\n",
       "      <td>NaN</td>\n",
       "      <td>NaN</td>\n",
       "      <td>writer,producer</td>\n",
       "      <td>tt20319332,tt27843798,tt27191658,tt10709066</td>\n",
       "    </tr>\n",
       "    <tr>\n",
       "      <th>13992781</th>\n",
       "      <td>nm9993714</td>\n",
       "      <td>Romeo del Rosario</td>\n",
       "      <td>NaN</td>\n",
       "      <td>NaN</td>\n",
       "      <td>animation_department,art_department</td>\n",
       "      <td>tt11657662,tt14069590,tt2455546</td>\n",
       "    </tr>\n",
       "    <tr>\n",
       "      <th>13992782</th>\n",
       "      <td>nm9993716</td>\n",
       "      <td>Essias Loberg</td>\n",
       "      <td>NaN</td>\n",
       "      <td>NaN</td>\n",
       "      <td>NaN</td>\n",
       "      <td>NaN</td>\n",
       "    </tr>\n",
       "    <tr>\n",
       "      <th>13992783</th>\n",
       "      <td>nm9993717</td>\n",
       "      <td>Harikrishnan Rajan</td>\n",
       "      <td>NaN</td>\n",
       "      <td>NaN</td>\n",
       "      <td>cinematographer</td>\n",
       "      <td>tt8736744</td>\n",
       "    </tr>\n",
       "    <tr>\n",
       "      <th>13992784</th>\n",
       "      <td>nm9993718</td>\n",
       "      <td>Aayush Nair</td>\n",
       "      <td>NaN</td>\n",
       "      <td>NaN</td>\n",
       "      <td>cinematographer</td>\n",
       "      <td>tt8736744</td>\n",
       "    </tr>\n",
       "    <tr>\n",
       "      <th>13992785</th>\n",
       "      <td>nm9993719</td>\n",
       "      <td>Andre Hill</td>\n",
       "      <td>NaN</td>\n",
       "      <td>NaN</td>\n",
       "      <td>NaN</td>\n",
       "      <td>NaN</td>\n",
       "    </tr>\n",
       "  </tbody>\n",
       "</table>\n",
       "</div>"
      ],
      "text/plain": [
       "             nconst         primaryName birthYear deathYear  \\\n",
       "13992773  nm9993706    Michal Jackowski       NaN       NaN   \n",
       "13992774  nm9993707      Alexandra Rago       NaN       NaN   \n",
       "13992775  nm9993708          Eli Bevins       NaN       NaN   \n",
       "13992776  nm9993709           Lu Bevins       NaN       NaN   \n",
       "13992777  nm9993710   Nestor Rudnytskyy       NaN       NaN   \n",
       "13992778  nm9993711       David Gluzman       NaN       NaN   \n",
       "13992779  nm9993712     Corny O'Connell       NaN       NaN   \n",
       "13992780  nm9993713       Sambit Mishra       NaN       NaN   \n",
       "13992781  nm9993714   Romeo del Rosario       NaN       NaN   \n",
       "13992782  nm9993716       Essias Loberg       NaN       NaN   \n",
       "13992783  nm9993717  Harikrishnan Rajan       NaN       NaN   \n",
       "13992784  nm9993718         Aayush Nair       NaN       NaN   \n",
       "13992785  nm9993719          Andre Hill       NaN       NaN   \n",
       "\n",
       "                            primaryProfession  \\\n",
       "13992773                     sound_department   \n",
       "13992774                                  NaN   \n",
       "13992775             producer,director,writer   \n",
       "13992776             producer,director,writer   \n",
       "13992777                                  NaN   \n",
       "13992778                                  NaN   \n",
       "13992779                                  NaN   \n",
       "13992780                      writer,producer   \n",
       "13992781  animation_department,art_department   \n",
       "13992782                                  NaN   \n",
       "13992783                      cinematographer   \n",
       "13992784                      cinematographer   \n",
       "13992785                                  NaN   \n",
       "\n",
       "                                       knownForTitles  \n",
       "13992773                                    tt8744250  \n",
       "13992774                                          NaN  \n",
       "13992775  tt11702702,tt14508814,tt11772904,tt11772812  \n",
       "13992776  tt17717854,tt11772904,tt11772812,tt11697102  \n",
       "13992777                                          NaN  \n",
       "13992778                                          NaN  \n",
       "13992779                                          NaN  \n",
       "13992780  tt20319332,tt27843798,tt27191658,tt10709066  \n",
       "13992781              tt11657662,tt14069590,tt2455546  \n",
       "13992782                                          NaN  \n",
       "13992783                                    tt8736744  \n",
       "13992784                                    tt8736744  \n",
       "13992785                                          NaN  "
      ]
     },
     "execution_count": 6,
     "metadata": {},
     "output_type": "execute_result"
    }
   ],
   "source": [
    "df_name_basics_3.tail(13)"
   ]
  },
  {
   "cell_type": "markdown",
   "metadata": {},
   "source": [
    "# Valores nulos"
   ]
  },
  {
   "cell_type": "code",
   "execution_count": 7,
   "metadata": {},
   "outputs": [
    {
     "data": {
      "text/plain": [
       "<AxesSubplot:>"
      ]
     },
     "execution_count": 7,
     "metadata": {},
     "output_type": "execute_result"
    },
    {
     "data": {
      "image/png": "[encoded data removed]",
      "text/plain": [
       "<Figure size 2500x1000 with 2 Axes>"
      ]
     },
     "metadata": {},
     "output_type": "display_data"
    }
   ],
   "source": [
    "msno.matrix(df_name_basics_3)"
   ]
  },
  {
   "cell_type": "code",
   "execution_count": 8,
   "metadata": {},
   "outputs": [
    {
     "data": {
      "text/plain": [
       "nconst                      0\n",
       "primaryName                54\n",
       "birthYear            13360152\n",
       "deathYear            13755576\n",
       "primaryProfession     2716189\n",
       "knownForTitles        1582618\n",
       "dtype: int64"
      ]
     },
     "execution_count": 8,
     "metadata": {},
     "output_type": "execute_result"
    }
   ],
   "source": [
    "df_nulos_name_basics_3 = df_name_basics_3.isnull().sum()\n",
    "\n",
    "df_nulos_name_basics_3"
   ]
  },
  {
   "cell_type": "markdown",
   "metadata": {},
   "source": [
    "###### Eliminar"
   ]
  },
  {
   "cell_type": "code",
   "execution_count": 9,
   "metadata": {},
   "outputs": [],
   "source": [
    "df_name_basics_3.drop(columns=['deathYear'], inplace=True)"
   ]
  },
  {
   "cell_type": "markdown",
   "metadata": {},
   "source": [
    "###### Inputar"
   ]
  },
  {
   "cell_type": "code",
   "execution_count": 10,
   "metadata": {},
   "outputs": [],
   "source": [
    "# Reemplazar los valores nulos en 'knownForTitles' con 'Desconocido'\n",
    "df_name_basics_3['knownForTitles'] = df_name_basics_3['knownForTitles'].fillna('Desconocido')\n"
   ]
  },
  {
   "cell_type": "code",
   "execution_count": 11,
   "metadata": {},
   "outputs": [],
   "source": [
    "# Reemplazar los valores nulos en 'birthYear' con el valor 2024\n",
    "df_name_basics_3['birthYear'] = df_name_basics_3['birthYear'].fillna(2024)\n"
   ]
  },
  {
   "cell_type": "code",
   "execution_count": 12,
   "metadata": {},
   "outputs": [],
   "source": [
    "# Reemplazar los valores nulos en 'primaryProfession     ' con el valor 2024\n",
    "df_name_basics_3['primaryProfession'] = df_name_basics_3['primaryProfession'].fillna('Desconocido')"
   ]
  },
  {
   "cell_type": "code",
   "execution_count": 13,
   "metadata": {},
   "outputs": [],
   "source": [
    "# Convertir birthYear a tipo entero\n",
    "df_name_basics_3['birthYear'] = df_name_basics_3['birthYear'].astype(int)\n",
    "# Crear la columna para la década de nacimiento\n",
    "df_name_basics_3['birthDecade'] = (df_name_basics_3['birthYear'] // 10) * 10"
   ]
  },
  {
   "cell_type": "markdown",
   "metadata": {},
   "source": [
    "# After clean"
   ]
  },
  {
   "cell_type": "code",
   "execution_count": 14,
   "metadata": {},
   "outputs": [
    {
     "data": {
      "text/plain": [
       "<AxesSubplot:>"
      ]
     },
     "execution_count": 14,
     "metadata": {},
     "output_type": "execute_result"
    },
    {
     "data": {
      "image/png": "[encoded data removed]",
      "text/plain": [
       "<Figure size 2500x1000 with 2 Axes>"
      ]
     },
     "metadata": {},
     "output_type": "display_data"
    }
   ],
   "source": [
    "msno.matrix(df_name_basics_3)"
   ]
  },
  {
   "cell_type": "code",
   "execution_count": 15,
   "metadata": {},
   "outputs": [
    {
     "name": "stdout",
     "output_type": "stream",
     "text": [
      "<class 'pandas.core.frame.DataFrame'>\n",
      "RangeIndex: 13992786 entries, 0 to 13992785\n",
      "Data columns (total 6 columns):\n",
      " #   Column             Dtype \n",
      "---  ------             ----- \n",
      " 0   nconst             object\n",
      " 1   primaryName        object\n",
      " 2   birthYear          int32 \n",
      " 3   primaryProfession  object\n",
      " 4   knownForTitles     object\n",
      " 5   birthDecade        int32 \n",
      "dtypes: int32(2), object(4)\n",
      "memory usage: 533.8+ MB\n"
     ]
    }
   ],
   "source": [
    "df_name_basics_3.info()"
   ]
  },
  {
   "cell_type": "markdown",
   "metadata": {},
   "source": [
    "# Encontrar agrupaciones "
   ]
  },
  {
   "cell_type": "markdown",
   "metadata": {},
   "source": [
    "###### Agrupacion de primaryProfession"
   ]
  },
  {
   "cell_type": "code",
   "execution_count": 9,
   "metadata": {},
   "outputs": [
    {
     "name": "stdout",
     "output_type": "stream",
     "text": [
      "actor                        3239282\n",
      "Desconocido                  2716189\n",
      "actress                      1958144\n",
      "miscellaneous                1455209\n",
      "producer                     1242891\n",
      "writer                        930838\n",
      "camera_department             826634\n",
      "director                      760778\n",
      "art_department                495694\n",
      "sound_department              405172\n",
      "cinematographer               404453\n",
      "editor                        373231\n",
      "composer                      352593\n",
      "music_department              289523\n",
      "assistant_director            270199\n",
      "visual_effects                250808\n",
      "make_up_department            235885\n",
      "animation_department          228257\n",
      "production_manager            218029\n",
      "archive_footage               203211\n",
      "editorial_department          197552\n",
      "costume_department            164852\n",
      "soundtrack                    152375\n",
      "transportation_department     107663\n",
      "art_director                   97659\n",
      "stunts                         92722\n",
      "script_department              91904\n",
      "location_management            88165\n",
      "production_designer            84490\n",
      "costume_designer               79281\n",
      "special_effects                69915\n",
      "casting_department             59179\n",
      "set_decorator                  58303\n",
      "executive                      40442\n",
      "casting_director               33203\n",
      "manager                        14946\n",
      "talent_agent                   14080\n",
      "archive_sound                   5194\n",
      "music_artist                    5101\n",
      "legal                           4621\n",
      "publicist                       4482\n",
      "assistant                       3841\n",
      "podcaster                        652\n",
      "production_department            439\n",
      "choreographer                    280\n",
      "electrical_department             59\n",
      "accountant                        49\n",
      "dtype: int64\n"
     ]
    }
   ],
   "source": [
    "# Dividir los valores de la columna \"primaryProfession\" en listas separadas por comas\n",
    "professions_split = df_name_basics_3['primaryProfession'].str.split(',')\n",
    "\n",
    "# Aplanar todas las listas en una sola y crear un DataFrame temporal para contar los valores únicos\n",
    "all_professions = pd.Series([item for sublist in professions_split.dropna() for item in sublist])\n",
    "\n",
    "# Contar la frecuencia de cada profesión\n",
    "professions_count = all_professions.value_counts()\n",
    "\n",
    "# Mostrar los resultados\n",
    "print(professions_count)"
   ]
  },
  {
   "cell_type": "code",
   "execution_count": 10,
   "metadata": {},
   "outputs": [
    {
     "name": "stdout",
     "output_type": "stream",
     "text": [
      "['actor', 'Desconocido', 'actress', 'miscellaneous', 'producer', 'writer', 'camera_department', 'director', 'art_department', 'sound_department']\n"
     ]
    }
   ],
   "source": [
    "# Obtener solo los nombres de los títulos como un índice\n",
    "names_only_professions = professions_count.index\n",
    "\n",
    "# Convertir los nombres a una lista si es necesario\n",
    "#professions_unique = pd.DataFrame(names_only_professions.tolist())\n",
    "professions_unique_array = names_only_professions.tolist()\n",
    "\n",
    "# Mostrar el resultado\n",
    "print(professions_unique_array[:10])"
   ]
  },
  {
   "cell_type": "code",
   "execution_count": 11,
   "metadata": {},
   "outputs": [
    {
     "data": {
      "text/plain": [
       "list"
      ]
     },
     "execution_count": 11,
     "metadata": {},
     "output_type": "execute_result"
    }
   ],
   "source": [
    "type(professions_unique_array)"
   ]
  },
  {
   "cell_type": "code",
   "execution_count": 12,
   "metadata": {},
   "outputs": [
    {
     "data": {
      "text/plain": [
       "47"
      ]
     },
     "execution_count": 12,
     "metadata": {},
     "output_type": "execute_result"
    }
   ],
   "source": [
    "# Contar el número de elementos en la lista\n",
    "len(professions_unique_array)\n"
   ]
  },
  {
   "cell_type": "markdown",
   "metadata": {},
   "source": [
    "###### Agrupacion de knownForTitles"
   ]
  },
  {
   "cell_type": "code",
   "execution_count": 13,
   "metadata": {},
   "outputs": [
    {
     "name": "stdout",
     "output_type": "stream",
     "text": [
      "Desconocido    1582618\n",
      "tt0806910        15223\n",
      "tt0407423        12703\n",
      "tt0123338        11914\n",
      "tt0441074        10755\n",
      "                ...   \n",
      "tt0865352            1\n",
      "tt12917066           1\n",
      "tt3797474            1\n",
      "tt6419430            1\n",
      "tt2180158            1\n",
      "Length: 2062859, dtype: int64\n"
     ]
    }
   ],
   "source": [
    "# Dividir los valores de la columna \"knownForTitles\" en listas separadas por comas\n",
    "knownForTitles_split = df_name_basics_3['knownForTitles'].str.split(',')\n",
    "\n",
    "# Aplanar todas las listas en una sola y crear un DataFrame temporal para contar los valores únicos\n",
    "all_knownForTitles = pd.Series([item for sublist in knownForTitles_split.dropna() for item in sublist])\n",
    "\n",
    "# Contar la frecuencia de cada profesión\n",
    "knownForTitles_count = all_knownForTitles.value_counts()\n",
    "\n",
    "# Mostrar los resultados\n",
    "print(knownForTitles_count)"
   ]
  },
  {
   "cell_type": "code",
   "execution_count": 14,
   "metadata": {},
   "outputs": [
    {
     "name": "stdout",
     "output_type": "stream",
     "text": [
      "['Desconocido', 'tt0806910', 'tt0407423', 'tt0123338', 'tt0441074', 'tt22014400', 'tt0206501', 'tt0896893', 'tt0133302', 'tt0065323']\n"
     ]
    }
   ],
   "source": [
    "# Obtener solo los nombres de los títulos como un índice\n",
    "names_only = knownForTitles_count.index\n",
    "\n",
    "# Convertir los nombres a una lista si es necesario\n",
    "#knownForTitles_unique = pd.DataFrame(names_only.tolist())\n",
    "knownForTitles_unique = names_only.tolist()\n",
    "\n",
    "# Mostrar el resultado\n",
    "print(knownForTitles_unique[:10])\n"
   ]
  },
  {
   "cell_type": "code",
   "execution_count": 19,
   "metadata": {},
   "outputs": [
    {
     "data": {
      "text/plain": [
       "list"
      ]
     },
     "execution_count": 19,
     "metadata": {},
     "output_type": "execute_result"
    }
   ],
   "source": [
    "type(knownForTitles_unique)"
   ]
  },
  {
   "cell_type": "code",
   "execution_count": 24,
   "metadata": {},
   "outputs": [
    {
     "data": {
      "text/plain": [
       "2062859"
      ]
     },
     "execution_count": 24,
     "metadata": {},
     "output_type": "execute_result"
    }
   ],
   "source": [
    "# Contar el número de elementos en la lista\n",
    "len(knownForTitles_unique)"
   ]
  },
  {
   "cell_type": "markdown",
   "metadata": {},
   "source": [
    "# Normalizando "
   ]
  },
  {
   "cell_type": "markdown",
   "metadata": {},
   "source": [
    "#### profession"
   ]
  },
  {
   "cell_type": "code",
   "execution_count": 15,
   "metadata": {},
   "outputs": [],
   "source": [
    "# Crear un DataFrame para las profesiones únicas\n",
    "professions_unique = pd.DataFrame({\n",
    "    'profession_id': range(1, 48),\n",
    "    'profession': professions_unique_array\n",
    "})\n",
    "\n"
   ]
  },
  {
   "cell_type": "code",
   "execution_count": 29,
   "metadata": {},
   "outputs": [],
   "source": [
    "# Descomponer la columna primaryProfession\n",
    "df_expanded_name_basics_3 = df_name_basics_3.assign(primaryProfession=df_name_basics_3['primaryProfession'].str.split(',')).explode('primaryProfession')\n",
    "\n",
    "# Unir con la tabla de profesiones únicas para obtener los IDs de profesiones\n",
    "df_expanded_name_basics_3 = pd.merge(df_expanded_name_basics_3, professions_unique, left_on='primaryProfession', right_on='profession', how='left')\n",
    "\n",
    "# Eliminar la columna primaryProfession original y renombrar la columna profession_id\n",
    "df_expanded_name_basics_3 = df_expanded_name_basics_3.drop(columns=['primaryProfession', 'profession']).rename(columns={'profession_id': 'profession_id'})\n",
    "\n"
   ]
  },
  {
   "cell_type": "markdown",
   "metadata": {},
   "source": [
    "#### knownForTitles"
   ]
  },
  {
   "cell_type": "code",
   "execution_count": 30,
   "metadata": {},
   "outputs": [],
   "source": [
    "# Crear un DataFrame para los títulos conocidos únicos\n",
    "knownForTitles_unique = pd.DataFrame({\n",
    "    'title_id': range(1, 2062860),\n",
    "    'title': knownForTitles_unique\n",
    "})\n"
   ]
  },
  {
   "cell_type": "code",
   "execution_count": 31,
   "metadata": {},
   "outputs": [],
   "source": [
    "# Descomponer la columna knownForTitles\n",
    "df_expanded_name_basics_3 = df_name_basics_3.assign(knownForTitles=df_name_basics_3['knownForTitles'].str.split(',')).explode('knownForTitles')\n",
    "\n",
    "# Unir con la tabla de títulos conocidos únicos para obtener los IDs de títulos\n",
    "df_expanded_name_basics_3 = pd.merge(df_expanded_name_basics_3, knownForTitles_unique, left_on='knownForTitles', right_on='title', how='left')\n",
    "\n",
    "# Eliminar la columna knownForTitles original y renombrar la columna title_id\n",
    "df_expanded_name_basics_3 = df_expanded_name_basics_3.drop(columns=['knownForTitles', 'title']).rename(columns={'title_id': 'title_id'})\n"
   ]
  },
  {
   "cell_type": "markdown",
   "metadata": {},
   "source": [
    "# Exportando"
   ]
  },
  {
   "cell_type": "code",
   "execution_count": 16,
   "metadata": {},
   "outputs": [],
   "source": [
    "# Exportar data clean\n",
    "df_name_basics_3.to_csv('name_basics_3_cleaned.csv', index=False)"
   ]
  },
  {
   "cell_type": "markdown",
   "metadata": {},
   "source": [
    "#### profession"
   ]
  },
  {
   "cell_type": "code",
   "execution_count": 16,
   "metadata": {},
   "outputs": [],
   "source": [
    "# Guardar la tabla de profesiones únicas en un archivo CSV\n",
    "professions_unique.to_csv('professions_unique.csv', index=False)"
   ]
  },
  {
   "cell_type": "code",
   "execution_count": null,
   "metadata": {},
   "outputs": [],
   "source": [
    "# Guardar el DataFrame normalizado en un archivo CSV\n",
    "df_expanded_name_basics_3.to_csv('name_basics_3_normalized.csv', index=False)"
   ]
  },
  {
   "cell_type": "markdown",
   "metadata": {},
   "source": [
    "#### knownForTitles"
   ]
  },
  {
   "cell_type": "code",
   "execution_count": 32,
   "metadata": {},
   "outputs": [],
   "source": [
    "# Guardar la tabla de títulos conocidos únicos en un archivo CSV\n",
    "knownForTitles_unique.to_csv('knownForTitles_unique.csv', index=False)"
   ]
  },
  {
   "cell_type": "code",
   "execution_count": null,
   "metadata": {},
   "outputs": [],
   "source": [
    "# Guardar el DataFrame normalizado en un archivo CSV\n",
    "df_expanded_name_basics_3.to_csv('name_basics_3_normalized.csv', index=False)"
   ]
  }
 ],
 "metadata": {
  "kernelspec": {
   "display_name": "mi_entorno",
   "language": "python",
   "name": "python3"
  },
  "language_info": {
   "codemirror_mode": {
    "name": "ipython",
    "version": 3
   },
   "file_extension": ".py",
   "mimetype": "text/x-python",
   "name": "python",
   "nbconvert_exporter": "python",
   "pygments_lexer": "ipython3",
   "version": "3.7.7"
  }
 },
 "nbformat": 4,
 "nbformat_minor": 2
}
